{
 "metadata": {
  "language_info": {
   "codemirror_mode": {
    "name": "ipython",
    "version": 3
   },
   "file_extension": ".py",
   "mimetype": "text/x-python",
   "name": "python",
   "nbconvert_exporter": "python",
   "pygments_lexer": "ipython3",
   "version": "3.8.5-final"
  },
  "orig_nbformat": 2,
  "kernelspec": {
   "name": "pythondsai",
   "display_name": "pythonDSAI",
   "language": "python"
  }
 },
 "nbformat": 4,
 "nbformat_minor": 2,
 "cells": [
  {
   "cell_type": "code",
   "execution_count": 2,
   "metadata": {},
   "outputs": [
    {
     "output_type": "display_data",
     "data": {
      "text/plain": "HBox(children=(FloatProgress(value=0.0, description='states', max=4.0, style=ProgressStyle(description_width='…",
      "application/vnd.jupyter.widget-view+json": {
       "version_major": 2,
       "version_minor": 0,
       "model_id": "3baf5e01807949979a9694cb9e152cce"
      }
     },
     "metadata": {}
    },
    {
     "output_type": "display_data",
     "data": {
      "text/plain": "HBox(children=(FloatProgress(value=0.0, description='components', max=9.0, style=ProgressStyle(description_wid…",
      "application/vnd.jupyter.widget-view+json": {
       "version_major": 2,
       "version_minor": 0,
       "model_id": "a8cdb622e6c04b28902ab2152165d128"
      }
     },
     "metadata": {}
    },
    {
     "output_type": "display_data",
     "data": {
      "text/plain": "HBox(children=(FloatProgress(value=0.0, description='EVs', max=16.0, style=ProgressStyle(description_width='in…",
      "application/vnd.jupyter.widget-view+json": {
       "version_major": 2,
       "version_minor": 0,
       "model_id": "99e84e314018434caacea70ebe912feb"
      }
     },
     "metadata": {}
    },
    {
     "output_type": "stream",
     "name": "stdout",
     "text": [
      "\n\n\n"
     ]
    },
    {
     "output_type": "error",
     "ename": "KeyboardInterrupt",
     "evalue": "",
     "traceback": [
      "\u001b[0;31m---------------------------------------------------------------------------\u001b[0m",
      "\u001b[0;31mKeyboardInterrupt\u001b[0m                         Traceback (most recent call last)",
      "\u001b[0;32m<ipython-input-2-6ed5d0b24380>\u001b[0m in \u001b[0;36m<module>\u001b[0;34m\u001b[0m\n\u001b[1;32m     68\u001b[0m             \u001b[0;31m# For each subset of EEG components, applied CCA\u001b[0m\u001b[0;34m\u001b[0m\u001b[0;34m\u001b[0m\u001b[0;34m\u001b[0m\u001b[0m\n\u001b[1;32m     69\u001b[0m             \u001b[0mev_cca\u001b[0m \u001b[0;34m=\u001b[0m \u001b[0mCCA\u001b[0m\u001b[0;34m(\u001b[0m\u001b[0mn_components\u001b[0m\u001b[0;34m=\u001b[0m\u001b[0mlen\u001b[0m\u001b[0;34m(\u001b[0m\u001b[0mgroup\u001b[0m\u001b[0;34m)\u001b[0m\u001b[0;34m)\u001b[0m\u001b[0;34m\u001b[0m\u001b[0;34m\u001b[0m\u001b[0m\n\u001b[0;32m---> 70\u001b[0;31m             \u001b[0mev_cca\u001b[0m\u001b[0;34m.\u001b[0m\u001b[0mfit\u001b[0m\u001b[0;34m(\u001b[0m\u001b[0mtransformed_eeg\u001b[0m\u001b[0;34m[\u001b[0m\u001b[0mgroup\u001b[0m\u001b[0;34m]\u001b[0m\u001b[0;34m.\u001b[0m\u001b[0mT\u001b[0m\u001b[0;34m,\u001b[0m\u001b[0mecog\u001b[0m\u001b[0;34m.\u001b[0m\u001b[0mT\u001b[0m\u001b[0;34m)\u001b[0m\u001b[0;34m\u001b[0m\u001b[0;34m\u001b[0m\u001b[0m\n\u001b[0m\u001b[1;32m     71\u001b[0m             \u001b[0mev_R\u001b[0m \u001b[0;34m=\u001b[0m \u001b[0mnp\u001b[0m\u001b[0;34m.\u001b[0m\u001b[0mcorrcoef\u001b[0m\u001b[0;34m(\u001b[0m\u001b[0mev_cca\u001b[0m\u001b[0;34m.\u001b[0m\u001b[0mx_scores_\u001b[0m\u001b[0;34m.\u001b[0m\u001b[0mT\u001b[0m\u001b[0;34m,\u001b[0m\u001b[0mev_cca\u001b[0m\u001b[0;34m.\u001b[0m\u001b[0my_scores_\u001b[0m\u001b[0;34m.\u001b[0m\u001b[0mT\u001b[0m\u001b[0;34m)\u001b[0m\u001b[0;34m\u001b[0m\u001b[0;34m\u001b[0m\u001b[0m\n\u001b[1;32m     72\u001b[0m             \u001b[0;31m# print(ev_R.shape)\u001b[0m\u001b[0;34m\u001b[0m\u001b[0;34m\u001b[0m\u001b[0;34m\u001b[0m\u001b[0m\n",
      "\u001b[0;32m~/pythonvenv/pythonDSAI/lib/python3.8/site-packages/sklearn/cross_decomposition/_pls.py\u001b[0m in \u001b[0;36mfit\u001b[0;34m(self, X, Y)\u001b[0m\n\u001b[1;32m    331\u001b[0m \u001b[0;34m\u001b[0m\u001b[0m\n\u001b[1;32m    332\u001b[0m                 \u001b[0mx_weights\u001b[0m\u001b[0;34m,\u001b[0m \u001b[0my_weights\u001b[0m\u001b[0;34m,\u001b[0m \u001b[0mn_iter_\u001b[0m \u001b[0;34m=\u001b[0m\u001b[0;31m \u001b[0m\u001b[0;31m\\\u001b[0m\u001b[0;34m\u001b[0m\u001b[0;34m\u001b[0m\u001b[0m\n\u001b[0;32m--> 333\u001b[0;31m                     _nipals_twoblocks_inner_loop(\n\u001b[0m\u001b[1;32m    334\u001b[0m                         \u001b[0mX\u001b[0m\u001b[0;34m=\u001b[0m\u001b[0mXk\u001b[0m\u001b[0;34m,\u001b[0m \u001b[0mY\u001b[0m\u001b[0;34m=\u001b[0m\u001b[0mYk\u001b[0m\u001b[0;34m,\u001b[0m \u001b[0mmode\u001b[0m\u001b[0;34m=\u001b[0m\u001b[0mself\u001b[0m\u001b[0;34m.\u001b[0m\u001b[0mmode\u001b[0m\u001b[0;34m,\u001b[0m \u001b[0mmax_iter\u001b[0m\u001b[0;34m=\u001b[0m\u001b[0mself\u001b[0m\u001b[0;34m.\u001b[0m\u001b[0mmax_iter\u001b[0m\u001b[0;34m,\u001b[0m\u001b[0;34m\u001b[0m\u001b[0;34m\u001b[0m\u001b[0m\n\u001b[1;32m    335\u001b[0m                         tol=self.tol, norm_y_weights=self.norm_y_weights)\n",
      "\u001b[0;32m~/pythonvenv/pythonDSAI/lib/python3.8/site-packages/sklearn/cross_decomposition/_pls.py\u001b[0m in \u001b[0;36m_nipals_twoblocks_inner_loop\u001b[0;34m(X, Y, mode, max_iter, tol, norm_y_weights)\u001b[0m\n\u001b[1;32m     79\u001b[0m             \u001b[0;32mif\u001b[0m \u001b[0mY_pinv\u001b[0m \u001b[0;32mis\u001b[0m \u001b[0;32mNone\u001b[0m\u001b[0;34m:\u001b[0m\u001b[0;34m\u001b[0m\u001b[0;34m\u001b[0m\u001b[0m\n\u001b[1;32m     80\u001b[0m                 \u001b[0;31m# compute once pinv(Y)\u001b[0m\u001b[0;34m\u001b[0m\u001b[0;34m\u001b[0m\u001b[0;34m\u001b[0m\u001b[0m\n\u001b[0;32m---> 81\u001b[0;31m                 \u001b[0mY_pinv\u001b[0m \u001b[0;34m=\u001b[0m \u001b[0mpinv2\u001b[0m\u001b[0;34m(\u001b[0m\u001b[0mY\u001b[0m\u001b[0;34m,\u001b[0m \u001b[0mcheck_finite\u001b[0m\u001b[0;34m=\u001b[0m\u001b[0;32mFalse\u001b[0m\u001b[0;34m,\u001b[0m \u001b[0mcond\u001b[0m\u001b[0;34m=\u001b[0m\u001b[0mcond_Y\u001b[0m\u001b[0;34m)\u001b[0m\u001b[0;34m\u001b[0m\u001b[0;34m\u001b[0m\u001b[0m\n\u001b[0m\u001b[1;32m     82\u001b[0m             \u001b[0my_weights\u001b[0m \u001b[0;34m=\u001b[0m \u001b[0mnp\u001b[0m\u001b[0;34m.\u001b[0m\u001b[0mdot\u001b[0m\u001b[0;34m(\u001b[0m\u001b[0mY_pinv\u001b[0m\u001b[0;34m,\u001b[0m \u001b[0mx_score\u001b[0m\u001b[0;34m)\u001b[0m\u001b[0;34m\u001b[0m\u001b[0;34m\u001b[0m\u001b[0m\n\u001b[1;32m     83\u001b[0m         \u001b[0;32melse\u001b[0m\u001b[0;34m:\u001b[0m\u001b[0;34m\u001b[0m\u001b[0;34m\u001b[0m\u001b[0m\n",
      "\u001b[0;32m~/pythonvenv/pythonDSAI/lib/python3.8/site-packages/scipy/linalg/basic.py\u001b[0m in \u001b[0;36mpinv2\u001b[0;34m(a, cond, rcond, return_rank, check_finite)\u001b[0m\n\u001b[1;32m   1370\u001b[0m     \"\"\"\n\u001b[1;32m   1371\u001b[0m     \u001b[0ma\u001b[0m \u001b[0;34m=\u001b[0m \u001b[0m_asarray_validated\u001b[0m\u001b[0;34m(\u001b[0m\u001b[0ma\u001b[0m\u001b[0;34m,\u001b[0m \u001b[0mcheck_finite\u001b[0m\u001b[0;34m=\u001b[0m\u001b[0mcheck_finite\u001b[0m\u001b[0;34m)\u001b[0m\u001b[0;34m\u001b[0m\u001b[0;34m\u001b[0m\u001b[0m\n\u001b[0;32m-> 1372\u001b[0;31m     \u001b[0mu\u001b[0m\u001b[0;34m,\u001b[0m \u001b[0ms\u001b[0m\u001b[0;34m,\u001b[0m \u001b[0mvh\u001b[0m \u001b[0;34m=\u001b[0m \u001b[0mdecomp_svd\u001b[0m\u001b[0;34m.\u001b[0m\u001b[0msvd\u001b[0m\u001b[0;34m(\u001b[0m\u001b[0ma\u001b[0m\u001b[0;34m,\u001b[0m \u001b[0mfull_matrices\u001b[0m\u001b[0;34m=\u001b[0m\u001b[0;32mFalse\u001b[0m\u001b[0;34m,\u001b[0m \u001b[0mcheck_finite\u001b[0m\u001b[0;34m=\u001b[0m\u001b[0;32mFalse\u001b[0m\u001b[0;34m)\u001b[0m\u001b[0;34m\u001b[0m\u001b[0;34m\u001b[0m\u001b[0m\n\u001b[0m\u001b[1;32m   1373\u001b[0m \u001b[0;34m\u001b[0m\u001b[0m\n\u001b[1;32m   1374\u001b[0m     \u001b[0;32mif\u001b[0m \u001b[0mrcond\u001b[0m \u001b[0;32mis\u001b[0m \u001b[0;32mnot\u001b[0m \u001b[0;32mNone\u001b[0m\u001b[0;34m:\u001b[0m\u001b[0;34m\u001b[0m\u001b[0;34m\u001b[0m\u001b[0m\n",
      "\u001b[0;32m~/pythonvenv/pythonDSAI/lib/python3.8/site-packages/scipy/linalg/decomp_svd.py\u001b[0m in \u001b[0;36msvd\u001b[0;34m(a, full_matrices, compute_uv, overwrite_a, check_finite, lapack_driver)\u001b[0m\n\u001b[1;32m    123\u001b[0m \u001b[0;34m\u001b[0m\u001b[0m\n\u001b[1;32m    124\u001b[0m     \u001b[0;31m# perform decomposition\u001b[0m\u001b[0;34m\u001b[0m\u001b[0;34m\u001b[0m\u001b[0;34m\u001b[0m\u001b[0m\n\u001b[0;32m--> 125\u001b[0;31m     u, s, v, info = gesXd(a1, compute_uv=compute_uv, lwork=lwork,\n\u001b[0m\u001b[1;32m    126\u001b[0m                           full_matrices=full_matrices, overwrite_a=overwrite_a)\n\u001b[1;32m    127\u001b[0m \u001b[0;34m\u001b[0m\u001b[0m\n",
      "\u001b[0;31mKeyboardInterrupt\u001b[0m: "
     ]
    }
   ],
   "source": [
    "import scipy.io\n",
    "import numpy as np\n",
    "import matplotlib.pyplot as plt\n",
    "from tqdm.notebook import tqdm, tnrange\n",
    "\n",
    "from sklearn.cross_decomposition import CCA\n",
    "\n",
    "def cal_correlation_coefficient(corr,mode='max',abs=False):\n",
    "    import numpy as np\n",
    "    _list_mode = ['max','sum']\n",
    "    if(type(corr) != type(np.array([]))): corr = np.array(corr)\n",
    "    if(mode not in _list_mode): raise ValueError(f\"mode can only be {_list_mode}\")\n",
    "    if(abs): corr = np.abs(corr)\n",
    "    # print(corr)\n",
    "    if(mode == 'max'): return corr.max(axis=1)\n",
    "    if(mode == 'sum'): return corr.sum(axis=1)\n",
    "\n",
    "corr_mode = 'sum'\n",
    "corr_abs = True\n",
    "# cal_correlation_coefficient(R[:X_chs,X_chs:X_chs+Y_chs],mode='sum',abs=False)\n",
    "\n",
    "\n",
    "\n",
    "# Use all default parameter\n",
    "bss_method = CCA(n_components=16)\n",
    "\n",
    "# Now we want to perform method on all EEG data we have\n",
    "# We have 4 EEG signals with 16 channels and each consists of 7 components (bands) + original + highpass = 9\n",
    "states = ['deep-anesthetic','low-anesthetic','recovery','rest']\n",
    "components = ['','_highpass','_0_delta_theta','_1_alpha','_2_low_beta','_3_high_beta','_4_low_gamma','_5_middle_gamma','_6_high_gamma']\n",
    "for state in tqdm(states, desc='states'):\n",
    "    mat_eeg = scipy.io.loadmat(f'EEG/EEG_{state}.mat')\n",
    "    mat_ecog = scipy.io.loadmat(f'EEG/ECoG_{state}.mat')\n",
    "    # RUN method on original, highpass, each component\n",
    "    for component in tqdm(components,desc='components'):\n",
    "        eeg = []\n",
    "        for i in range(16):\n",
    "            eeg.append(mat_eeg[f'{i}{component}'][0])\n",
    "        eeg = np.array(eeg)\n",
    "\n",
    "        ecog = []\n",
    "        for i in range(128):\n",
    "            ecog.append(mat_ecog[f'{i}{component}'][0])\n",
    "        ecog = np.array(ecog)\n",
    "        # print(eeg.shape) (16,300000)\n",
    "        # print(ecog.shape) (128,300000)\n",
    "        # (n_features, n_samples)\n",
    "\n",
    "        # 1. Get 16 random weights from -1 to 1\n",
    "        weights = np.random.uniform(-1,1,16).reshape(-1,1)\n",
    "        # 2. Linear tranform\n",
    "        transformed_eeg = eeg * weights\n",
    "        # print(transformed_eeg.shape) #(16, 300000)\n",
    "        \n",
    "        # (n_samples, n_components)\n",
    "        assert (eeg == transformed_eeg).all() == False, f\"You data is the same.\"\n",
    "        \n",
    "        R = np.corrcoef(transformed_eeg, ecog)\n",
    "        corr = cal_correlation_coefficient(R[:16,16:16+128],mode=corr_mode,abs=corr_abs)\n",
    "        # print(corr.shape) #(16,)\n",
    "        # Step4\n",
    "        # argsort is acsding. [::-1] will revert the result\n",
    "        group = []\n",
    "        EVs = []\n",
    "        for idx in tqdm(corr.argsort()[::-1],desc='EVs'):\n",
    "            group.append(idx)\n",
    "            # print(transformed_eeg.T[group].shape)\n",
    "            # For each subset of EEG components, applied CCA\n",
    "            ev_cca = CCA(n_components=len(group))\n",
    "            ev_cca.fit(transformed_eeg[group].T,ecog.T)\n",
    "            ev_R = np.corrcoef(ev_cca.x_scores_.T,ev_cca.y_scores_.T)\n",
    "            # print(ev_R.shape)\n",
    "            # print(ev_R)\n",
    "            # the \"sum of canonical correlation coefficients\" was calculated for each freq, state, and subject\n",
    "            ccc = cal_correlation_coefficient(ev_R[:len(group),len(group):2*len(group)],mode='sum',abs=True)\n",
    "            EVs.append(ccc)\n",
    "            # print(EVs)\n",
    "            # if(len(group) == 16): break\n",
    "        # print(EVs)\n",
    "        scipy.io.savemat(f'BSS/RandomSeparation_{state}{component}.mat', dict({'EVs': EVs}))\n",
    "        # break\n",
    "    # break\n"
   ]
  },
  {
   "cell_type": "code",
   "execution_count": null,
   "metadata": {},
   "outputs": [],
   "source": [
    "\n",
    "np.random.uniform(-1,1,16).reshape(-1,1)"
   ]
  }
 ]
}