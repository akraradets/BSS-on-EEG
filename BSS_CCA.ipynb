{
 "metadata": {
  "language_info": {
   "codemirror_mode": {
    "name": "ipython",
    "version": 3
   },
   "file_extension": ".py",
   "mimetype": "text/x-python",
   "name": "python",
   "nbconvert_exporter": "python",
   "pygments_lexer": "ipython3",
   "version": "3.8.5-final"
  },
  "orig_nbformat": 2,
  "kernelspec": {
   "name": "pythondsai",
   "display_name": "pythonDSAI",
   "language": "python"
  }
 },
 "nbformat": 4,
 "nbformat_minor": 2,
 "cells": [
  {
   "cell_type": "code",
   "execution_count": 1,
   "metadata": {},
   "outputs": [
    {
     "output_type": "display_data",
     "data": {
      "text/plain": "HBox(children=(FloatProgress(value=0.0, description='states', max=4.0, style=ProgressStyle(description_width='…",
      "application/vnd.jupyter.widget-view+json": {
       "version_major": 2,
       "version_minor": 0,
       "model_id": "6ebd1071442645aba016418f49777633"
      }
     },
     "metadata": {}
    },
    {
     "output_type": "stream",
     "name": "stdout",
     "text": [
      "\n"
     ]
    },
    {
     "output_type": "error",
     "ename": "KeyboardInterrupt",
     "evalue": "",
     "traceback": [
      "\u001b[0;31m---------------------------------------------------------------------------\u001b[0m",
      "\u001b[0;31mKeyboardInterrupt\u001b[0m                         Traceback (most recent call last)",
      "\u001b[0;32m<ipython-input-1-e276ad9a2a84>\u001b[0m in \u001b[0;36m<module>\u001b[0;34m\u001b[0m\n\u001b[1;32m     30\u001b[0m \u001b[0;32mfor\u001b[0m \u001b[0mstate\u001b[0m \u001b[0;32min\u001b[0m \u001b[0mtqdm\u001b[0m\u001b[0;34m(\u001b[0m\u001b[0mstates\u001b[0m\u001b[0;34m,\u001b[0m \u001b[0mdesc\u001b[0m\u001b[0;34m=\u001b[0m\u001b[0;34m'states'\u001b[0m\u001b[0;34m)\u001b[0m\u001b[0;34m:\u001b[0m\u001b[0;34m\u001b[0m\u001b[0;34m\u001b[0m\u001b[0m\n\u001b[1;32m     31\u001b[0m     \u001b[0mmat_eeg\u001b[0m \u001b[0;34m=\u001b[0m \u001b[0mscipy\u001b[0m\u001b[0;34m.\u001b[0m\u001b[0mio\u001b[0m\u001b[0;34m.\u001b[0m\u001b[0mloadmat\u001b[0m\u001b[0;34m(\u001b[0m\u001b[0;34mf'EEG/EEG_{state}.mat'\u001b[0m\u001b[0;34m)\u001b[0m\u001b[0;34m\u001b[0m\u001b[0;34m\u001b[0m\u001b[0m\n\u001b[0;32m---> 32\u001b[0;31m     \u001b[0mmat_ecog\u001b[0m \u001b[0;34m=\u001b[0m \u001b[0mscipy\u001b[0m\u001b[0;34m.\u001b[0m\u001b[0mio\u001b[0m\u001b[0;34m.\u001b[0m\u001b[0mloadmat\u001b[0m\u001b[0;34m(\u001b[0m\u001b[0;34mf'EEG/ECoG_{state}.mat'\u001b[0m\u001b[0;34m)\u001b[0m\u001b[0;34m\u001b[0m\u001b[0;34m\u001b[0m\u001b[0m\n\u001b[0m\u001b[1;32m     33\u001b[0m     \u001b[0;31m# RUN FastICA on original, highpass, each component\u001b[0m\u001b[0;34m\u001b[0m\u001b[0;34m\u001b[0m\u001b[0;34m\u001b[0m\u001b[0m\n\u001b[1;32m     34\u001b[0m     \u001b[0;32mfor\u001b[0m \u001b[0mcomponent\u001b[0m \u001b[0;32min\u001b[0m \u001b[0mtqdm\u001b[0m\u001b[0;34m(\u001b[0m\u001b[0mcomponents\u001b[0m\u001b[0;34m,\u001b[0m\u001b[0mdesc\u001b[0m\u001b[0;34m=\u001b[0m\u001b[0;34m'components'\u001b[0m\u001b[0;34m)\u001b[0m\u001b[0;34m:\u001b[0m\u001b[0;34m\u001b[0m\u001b[0;34m\u001b[0m\u001b[0m\n",
      "\u001b[0;32m~/pythonvenv/pythonDSAI/lib/python3.8/site-packages/scipy/io/matlab/mio.py\u001b[0m in \u001b[0;36mloadmat\u001b[0;34m(file_name, mdict, appendmat, **kwargs)\u001b[0m\n\u001b[1;32m    222\u001b[0m     \u001b[0;32mwith\u001b[0m \u001b[0m_open_file_context\u001b[0m\u001b[0;34m(\u001b[0m\u001b[0mfile_name\u001b[0m\u001b[0;34m,\u001b[0m \u001b[0mappendmat\u001b[0m\u001b[0;34m)\u001b[0m \u001b[0;32mas\u001b[0m \u001b[0mf\u001b[0m\u001b[0;34m:\u001b[0m\u001b[0;34m\u001b[0m\u001b[0;34m\u001b[0m\u001b[0m\n\u001b[1;32m    223\u001b[0m         \u001b[0mMR\u001b[0m\u001b[0;34m,\u001b[0m \u001b[0m_\u001b[0m \u001b[0;34m=\u001b[0m \u001b[0mmat_reader_factory\u001b[0m\u001b[0;34m(\u001b[0m\u001b[0mf\u001b[0m\u001b[0;34m,\u001b[0m \u001b[0;34m**\u001b[0m\u001b[0mkwargs\u001b[0m\u001b[0;34m)\u001b[0m\u001b[0;34m\u001b[0m\u001b[0;34m\u001b[0m\u001b[0m\n\u001b[0;32m--> 224\u001b[0;31m         \u001b[0mmatfile_dict\u001b[0m \u001b[0;34m=\u001b[0m \u001b[0mMR\u001b[0m\u001b[0;34m.\u001b[0m\u001b[0mget_variables\u001b[0m\u001b[0;34m(\u001b[0m\u001b[0mvariable_names\u001b[0m\u001b[0;34m)\u001b[0m\u001b[0;34m\u001b[0m\u001b[0;34m\u001b[0m\u001b[0m\n\u001b[0m\u001b[1;32m    225\u001b[0m \u001b[0;34m\u001b[0m\u001b[0m\n\u001b[1;32m    226\u001b[0m     \u001b[0;32mif\u001b[0m \u001b[0mmdict\u001b[0m \u001b[0;32mis\u001b[0m \u001b[0;32mnot\u001b[0m \u001b[0;32mNone\u001b[0m\u001b[0;34m:\u001b[0m\u001b[0;34m\u001b[0m\u001b[0;34m\u001b[0m\u001b[0m\n",
      "\u001b[0;32m~/pythonvenv/pythonDSAI/lib/python3.8/site-packages/scipy/io/matlab/mio5.py\u001b[0m in \u001b[0;36mget_variables\u001b[0;34m(self, variable_names)\u001b[0m\n\u001b[1;32m    331\u001b[0m                 \u001b[0;32mcontinue\u001b[0m\u001b[0;34m\u001b[0m\u001b[0;34m\u001b[0m\u001b[0m\n\u001b[1;32m    332\u001b[0m             \u001b[0;32mtry\u001b[0m\u001b[0;34m:\u001b[0m\u001b[0;34m\u001b[0m\u001b[0;34m\u001b[0m\u001b[0m\n\u001b[0;32m--> 333\u001b[0;31m                 \u001b[0mres\u001b[0m \u001b[0;34m=\u001b[0m \u001b[0mself\u001b[0m\u001b[0;34m.\u001b[0m\u001b[0mread_var_array\u001b[0m\u001b[0;34m(\u001b[0m\u001b[0mhdr\u001b[0m\u001b[0;34m,\u001b[0m \u001b[0mprocess\u001b[0m\u001b[0;34m)\u001b[0m\u001b[0;34m\u001b[0m\u001b[0;34m\u001b[0m\u001b[0m\n\u001b[0m\u001b[1;32m    334\u001b[0m             \u001b[0;32mexcept\u001b[0m \u001b[0mMatReadError\u001b[0m \u001b[0;32mas\u001b[0m \u001b[0merr\u001b[0m\u001b[0;34m:\u001b[0m\u001b[0;34m\u001b[0m\u001b[0;34m\u001b[0m\u001b[0m\n\u001b[1;32m    335\u001b[0m                 warnings.warn(\n",
      "\u001b[0;32m~/pythonvenv/pythonDSAI/lib/python3.8/site-packages/scipy/io/matlab/mio5.py\u001b[0m in \u001b[0;36mread_var_array\u001b[0;34m(self, header, process)\u001b[0m\n\u001b[1;32m    291\u001b[0m            \u001b[0;31m`\u001b[0m\u001b[0mprocess\u001b[0m\u001b[0;31m`\u001b[0m\u001b[0;34m.\u001b[0m\u001b[0;34m\u001b[0m\u001b[0;34m\u001b[0m\u001b[0m\n\u001b[1;32m    292\u001b[0m         '''\n\u001b[0;32m--> 293\u001b[0;31m         \u001b[0;32mreturn\u001b[0m \u001b[0mself\u001b[0m\u001b[0;34m.\u001b[0m\u001b[0m_matrix_reader\u001b[0m\u001b[0;34m.\u001b[0m\u001b[0marray_from_header\u001b[0m\u001b[0;34m(\u001b[0m\u001b[0mheader\u001b[0m\u001b[0;34m,\u001b[0m \u001b[0mprocess\u001b[0m\u001b[0;34m)\u001b[0m\u001b[0;34m\u001b[0m\u001b[0;34m\u001b[0m\u001b[0m\n\u001b[0m\u001b[1;32m    294\u001b[0m \u001b[0;34m\u001b[0m\u001b[0m\n\u001b[1;32m    295\u001b[0m     \u001b[0;32mdef\u001b[0m \u001b[0mget_variables\u001b[0m\u001b[0;34m(\u001b[0m\u001b[0mself\u001b[0m\u001b[0;34m,\u001b[0m \u001b[0mvariable_names\u001b[0m\u001b[0;34m=\u001b[0m\u001b[0;32mNone\u001b[0m\u001b[0;34m)\u001b[0m\u001b[0;34m:\u001b[0m\u001b[0;34m\u001b[0m\u001b[0;34m\u001b[0m\u001b[0m\n",
      "\u001b[0;31mKeyboardInterrupt\u001b[0m: "
     ]
    }
   ],
   "source": [
    "import scipy.io\n",
    "import numpy as np\n",
    "import matplotlib.pyplot as plt\n",
    "from tqdm.notebook import tqdm, tnrange\n",
    "\n",
    "from sklearn.cross_decomposition import CCA\n",
    "\n",
    "def cal_correlation_coefficient(corr,mode='max',abs=False):\n",
    "    import numpy as np\n",
    "    _list_mode = ['max','sum']\n",
    "    if(type(corr) != type(np.array([]))): corr = np.array(corr)\n",
    "    if(mode not in _list_mode): raise ValueError(f\"mode can only be {_list_mode}\")\n",
    "    if(abs): corr = np.abs(corr)\n",
    "    # print(corr)\n",
    "    if(mode == 'max'): return corr.max(axis=1)\n",
    "    if(mode == 'sum'): return corr.sum(axis=1)\n",
    "\n",
    "corr_mode = 'sum'\n",
    "corr_abs = True\n",
    "# cal_correlation_coefficient(R[:X_chs,X_chs:X_chs+Y_chs],mode='sum',abs=False)\n",
    "\n",
    "\n",
    "# Use all default parameter\n",
    "bss_method = CCA()\n",
    "\n",
    "# Now we want to perform FastICA on all EEG data we have\n",
    "# We have 4 EEG signals with 16 channels and each consists of 7 components (bands) + original + highpass = 9\n",
    "states = ['deep-anesthetic','low-anesthetic','recovery','rest']\n",
    "components = ['','_highpass','_0_delta_theta','_1_alpha','_2_low_beta','_3_high_beta','_4_low_gamma','_5_middle_gamma','_6_high_gamma']\n",
    "for state in tqdm(states, desc='states'):\n",
    "    mat_eeg = scipy.io.loadmat(f'EEG/EEG_{state}.mat')\n",
    "    mat_ecog = scipy.io.loadmat(f'EEG/ECoG_{state}.mat')\n",
    "    # RUN FastICA on original, highpass, each component\n",
    "    for component in tqdm(components,desc='components'):\n",
    "        eeg = []\n",
    "        for i in range(16):\n",
    "            eeg.append(mat_eeg[f'{i}{component}'][0])\n",
    "        eeg = np.array(eeg)\n",
    "\n",
    "        ecog = []\n",
    "        for i in range(128):\n",
    "            ecog.append(mat_ecog[f'{i}{component}'][0])\n",
    "        ecog = np.array(ecog)\n",
    "        # print(eeg.shape) (16,300000)\n",
    "        # print(ecog.shape) (128,300000)\n",
    "        # (n_features, n_samples)\n",
    "\n",
    "        # X = (n_samples, n_features)\n",
    "        transformed_eeg = bss_method.fit_transform(eeg.T)\n",
    "        # print(transformed_eeg.shape) (300000, 16)\n",
    "        # (n_samples, n_components)\n",
    "        assert (eeg == transformed_eeg.T).all() == False, f\"You data is the same.\"\n",
    "\n",
    "        R = np.corrcoef(transformed_eeg.T, ecog)\n",
    "        corr = cal_correlation_coefficient(R[:16,16:16+128],mode=corr_mode,abs=corr_abs)\n",
    "        # print(corr.shape) (16,)\n",
    "        # Step4\n",
    "        # argsort is acsding. [::-1] will revert the result\n",
    "        group = []\n",
    "        EVs = []\n",
    "        for idx in tqdm(corr.argsort()[::-1],desc='EVs'):\n",
    "            group.append(idx)\n",
    "            # print(transformed_eeg.T[group].shape)\n",
    "            # For each subset of EEG components, applied CCA\n",
    "            ev_cca = CCA(n_components=len(group))\n",
    "            ev_cca.fit(transformed_eeg.T[group].T,ecog.T)\n",
    "            ev_R = np.corrcoef(ev_cca.x_scores_.T,ev_cca.y_scores_.T)\n",
    "            # print(ev_R.shape)\n",
    "            # print(ev_R)\n",
    "            # the \"sum of canonical correlation coefficients\" was calculated for each freq, state, and subject\n",
    "            ccc = cal_correlation_coefficient(ev_R[:len(group),len(group):2*len(group)],mode='sum',abs=True)\n",
    "            EVs.append(ccc)\n",
    "            # print(EVs)\n",
    "            # if(len(group) == 16): break\n",
    "        # print(EVs)\n",
    "        scipy.io.savemat(f'BSS/CCA_{state}{component}.mat', dict({'EVs': EVs}))\n",
    "        # break\n",
    "    # break\n"
   ]
  },
  {
   "cell_type": "code",
   "execution_count": 2,
   "metadata": {},
   "outputs": [
    {
     "output_type": "execute_result",
     "data": {
      "text/plain": [
       "dict_keys(['__header__', '__version__', '__globals__', '0', '0_highpass', '0_0_delta_theta', '0_1_alpha', '0_2_low_beta', '0_3_high_beta', '0_4_low_gamma', '0_5_middle_gamma', '0_6_high_gamma', '1', '1_highpass', '1_0_delta_theta', '1_1_alpha', '1_2_low_beta', '1_3_high_beta', '1_4_low_gamma', '1_5_middle_gamma', '1_6_high_gamma', '2', '2_highpass', '2_0_delta_theta', '2_1_alpha', '2_2_low_beta', '2_3_high_beta', '2_4_low_gamma', '2_5_middle_gamma', '2_6_high_gamma', '3', '3_highpass', '3_0_delta_theta', '3_1_alpha', '3_2_low_beta', '3_3_high_beta', '3_4_low_gamma', '3_5_middle_gamma', '3_6_high_gamma', '4', '4_highpass', '4_0_delta_theta', '4_1_alpha', '4_2_low_beta', '4_3_high_beta', '4_4_low_gamma', '4_5_middle_gamma', '4_6_high_gamma', '5', '5_highpass', '5_0_delta_theta', '5_1_alpha', '5_2_low_beta', '5_3_high_beta', '5_4_low_gamma', '5_5_middle_gamma', '5_6_high_gamma', '6', '6_highpass', '6_0_delta_theta', '6_1_alpha', '6_2_low_beta', '6_3_high_beta', '6_4_low_gamma', '6_5_middle_gamma', '6_6_high_gamma', '7', '7_highpass', '7_0_delta_theta', '7_1_alpha', '7_2_low_beta', '7_3_high_beta', '7_4_low_gamma', '7_5_middle_gamma', '7_6_high_gamma', '8', '8_highpass', '8_0_delta_theta', '8_1_alpha', '8_2_low_beta', '8_3_high_beta', '8_4_low_gamma', '8_5_middle_gamma', '8_6_high_gamma', '9', '9_highpass', '9_0_delta_theta', '9_1_alpha', '9_2_low_beta', '9_3_high_beta', '9_4_low_gamma', '9_5_middle_gamma', '9_6_high_gamma', '10', '10_highpass', '10_0_delta_theta', '10_1_alpha', '10_2_low_beta', '10_3_high_beta', '10_4_low_gamma', '10_5_middle_gamma', '10_6_high_gamma', '11', '11_highpass', '11_0_delta_theta', '11_1_alpha', '11_2_low_beta', '11_3_high_beta', '11_4_low_gamma', '11_5_middle_gamma', '11_6_high_gamma', '12', '12_highpass', '12_0_delta_theta', '12_1_alpha', '12_2_low_beta', '12_3_high_beta', '12_4_low_gamma', '12_5_middle_gamma', '12_6_high_gamma', '13', '13_highpass', '13_0_delta_theta', '13_1_alpha', '13_2_low_beta', '13_3_high_beta', '13_4_low_gamma', '13_5_middle_gamma', '13_6_high_gamma', '14', '14_highpass', '14_0_delta_theta', '14_1_alpha', '14_2_low_beta', '14_3_high_beta', '14_4_low_gamma', '14_5_middle_gamma', '14_6_high_gamma', '15', '15_highpass', '15_0_delta_theta', '15_1_alpha', '15_2_low_beta', '15_3_high_beta', '15_4_low_gamma', '15_5_middle_gamma', '15_6_high_gamma', '16', '16_highpass', '16_0_delta_theta', '16_1_alpha', '16_2_low_beta', '16_3_high_beta', '16_4_low_gamma', '16_5_middle_gamma', '16_6_high_gamma', '17', '17_highpass', '17_0_delta_theta', '17_1_alpha', '17_2_low_beta', '17_3_high_beta', '17_4_low_gamma', '17_5_middle_gamma', '17_6_high_gamma', '18', '18_highpass', '18_0_delta_theta', '18_1_alpha', '18_2_low_beta', '18_3_high_beta', '18_4_low_gamma', '18_5_middle_gamma', '18_6_high_gamma', '19', '19_highpass', '19_0_delta_theta', '19_1_alpha', '19_2_low_beta', '19_3_high_beta', '19_4_low_gamma', '19_5_middle_gamma', '19_6_high_gamma', '20', '20_highpass', '20_0_delta_theta', '20_1_alpha', '20_2_low_beta', '20_3_high_beta', '20_4_low_gamma', '20_5_middle_gamma', '20_6_high_gamma', '21', '21_highpass', '21_0_delta_theta', '21_1_alpha', '21_2_low_beta', '21_3_high_beta', '21_4_low_gamma', '21_5_middle_gamma', '21_6_high_gamma', '22', '22_highpass', '22_0_delta_theta', '22_1_alpha', '22_2_low_beta', '22_3_high_beta', '22_4_low_gamma', '22_5_middle_gamma', '22_6_high_gamma', '23', '23_highpass', '23_0_delta_theta', '23_1_alpha', '23_2_low_beta', '23_3_high_beta', '23_4_low_gamma', '23_5_middle_gamma', '23_6_high_gamma', '24', '24_highpass', '24_0_delta_theta', '24_1_alpha', '24_2_low_beta', '24_3_high_beta', '24_4_low_gamma', '24_5_middle_gamma', '24_6_high_gamma', '25', '25_highpass', '25_0_delta_theta', '25_1_alpha', '25_2_low_beta', '25_3_high_beta', '25_4_low_gamma', '25_5_middle_gamma', '25_6_high_gamma', '26', '26_highpass', '26_0_delta_theta', '26_1_alpha', '26_2_low_beta', '26_3_high_beta', '26_4_low_gamma', '26_5_middle_gamma', '26_6_high_gamma', '27', '27_highpass', '27_0_delta_theta', '27_1_alpha', '27_2_low_beta', '27_3_high_beta', '27_4_low_gamma', '27_5_middle_gamma', '27_6_high_gamma', '28', '28_highpass', '28_0_delta_theta', '28_1_alpha', '28_2_low_beta', '28_3_high_beta', '28_4_low_gamma', '28_5_middle_gamma', '28_6_high_gamma', '29', '29_highpass', '29_0_delta_theta', '29_1_alpha', '29_2_low_beta', '29_3_high_beta', '29_4_low_gamma', '29_5_middle_gamma', '29_6_high_gamma', '30', '30_highpass', '30_0_delta_theta', '30_1_alpha', '30_2_low_beta', '30_3_high_beta', '30_4_low_gamma', '30_5_middle_gamma', '30_6_high_gamma', '31', '31_highpass', '31_0_delta_theta', '31_1_alpha', '31_2_low_beta', '31_3_high_beta', '31_4_low_gamma', '31_5_middle_gamma', '31_6_high_gamma', '32', '32_highpass', '32_0_delta_theta', '32_1_alpha', '32_2_low_beta', '32_3_high_beta', '32_4_low_gamma', '32_5_middle_gamma', '32_6_high_gamma', '33', '33_highpass', '33_0_delta_theta', '33_1_alpha', '33_2_low_beta', '33_3_high_beta', '33_4_low_gamma', '33_5_middle_gamma', '33_6_high_gamma', '34', '34_highpass', '34_0_delta_theta', '34_1_alpha', '34_2_low_beta', '34_3_high_beta', '34_4_low_gamma', '34_5_middle_gamma', '34_6_high_gamma', '35', '35_highpass', '35_0_delta_theta', '35_1_alpha', '35_2_low_beta', '35_3_high_beta', '35_4_low_gamma', '35_5_middle_gamma', '35_6_high_gamma', '36', '36_highpass', '36_0_delta_theta', '36_1_alpha', '36_2_low_beta', '36_3_high_beta', '36_4_low_gamma', '36_5_middle_gamma', '36_6_high_gamma', '37', '37_highpass', '37_0_delta_theta', '37_1_alpha', '37_2_low_beta', '37_3_high_beta', '37_4_low_gamma', '37_5_middle_gamma', '37_6_high_gamma', '38', '38_highpass', '38_0_delta_theta', '38_1_alpha', '38_2_low_beta', '38_3_high_beta', '38_4_low_gamma', '38_5_middle_gamma', '38_6_high_gamma', '39', '39_highpass', '39_0_delta_theta', '39_1_alpha', '39_2_low_beta', '39_3_high_beta', '39_4_low_gamma', '39_5_middle_gamma', '39_6_high_gamma', '40', '40_highpass', '40_0_delta_theta', '40_1_alpha', '40_2_low_beta', '40_3_high_beta', '40_4_low_gamma', '40_5_middle_gamma', '40_6_high_gamma', '41', '41_highpass', '41_0_delta_theta', '41_1_alpha', '41_2_low_beta', '41_3_high_beta', '41_4_low_gamma', '41_5_middle_gamma', '41_6_high_gamma', '42', '42_highpass', '42_0_delta_theta', '42_1_alpha', '42_2_low_beta', '42_3_high_beta', '42_4_low_gamma', '42_5_middle_gamma', '42_6_high_gamma', '43', '43_highpass', '43_0_delta_theta', '43_1_alpha', '43_2_low_beta', '43_3_high_beta', '43_4_low_gamma', '43_5_middle_gamma', '43_6_high_gamma', '44', '44_highpass', '44_0_delta_theta', '44_1_alpha', '44_2_low_beta', '44_3_high_beta', '44_4_low_gamma', '44_5_middle_gamma', '44_6_high_gamma', '45', '45_highpass', '45_0_delta_theta', '45_1_alpha', '45_2_low_beta', '45_3_high_beta', '45_4_low_gamma', '45_5_middle_gamma', '45_6_high_gamma', '46', '46_highpass', '46_0_delta_theta', '46_1_alpha', '46_2_low_beta', '46_3_high_beta', '46_4_low_gamma', '46_5_middle_gamma', '46_6_high_gamma', '47', '47_highpass', '47_0_delta_theta', '47_1_alpha', '47_2_low_beta', '47_3_high_beta', '47_4_low_gamma', '47_5_middle_gamma', '47_6_high_gamma', '48', '48_highpass', '48_0_delta_theta', '48_1_alpha', '48_2_low_beta', '48_3_high_beta', '48_4_low_gamma', '48_5_middle_gamma', '48_6_high_gamma', '49', '49_highpass', '49_0_delta_theta', '49_1_alpha', '49_2_low_beta', '49_3_high_beta', '49_4_low_gamma', '49_5_middle_gamma', '49_6_high_gamma', '50', '50_highpass', '50_0_delta_theta', '50_1_alpha', '50_2_low_beta', '50_3_high_beta', '50_4_low_gamma', '50_5_middle_gamma', '50_6_high_gamma', '51', '51_highpass', '51_0_delta_theta', '51_1_alpha', '51_2_low_beta', '51_3_high_beta', '51_4_low_gamma', '51_5_middle_gamma', '51_6_high_gamma', '52', '52_highpass', '52_0_delta_theta', '52_1_alpha', '52_2_low_beta', '52_3_high_beta', '52_4_low_gamma', '52_5_middle_gamma', '52_6_high_gamma', '53', '53_highpass', '53_0_delta_theta', '53_1_alpha', '53_2_low_beta', '53_3_high_beta', '53_4_low_gamma', '53_5_middle_gamma', '53_6_high_gamma', '54', '54_highpass', '54_0_delta_theta', '54_1_alpha', '54_2_low_beta', '54_3_high_beta', '54_4_low_gamma', '54_5_middle_gamma', '54_6_high_gamma', '55', '55_highpass', '55_0_delta_theta', '55_1_alpha', '55_2_low_beta', '55_3_high_beta', '55_4_low_gamma', '55_5_middle_gamma', '55_6_high_gamma', '56', '56_highpass', '56_0_delta_theta', '56_1_alpha', '56_2_low_beta', '56_3_high_beta', '56_4_low_gamma', '56_5_middle_gamma', '56_6_high_gamma', '57', '57_highpass', '57_0_delta_theta', '57_1_alpha', '57_2_low_beta', '57_3_high_beta', '57_4_low_gamma', '57_5_middle_gamma', '57_6_high_gamma', '58', '58_highpass', '58_0_delta_theta', '58_1_alpha', '58_2_low_beta', '58_3_high_beta', '58_4_low_gamma', '58_5_middle_gamma', '58_6_high_gamma', '59', '59_highpass', '59_0_delta_theta', '59_1_alpha', '59_2_low_beta', '59_3_high_beta', '59_4_low_gamma', '59_5_middle_gamma', '59_6_high_gamma', '60', '60_highpass', '60_0_delta_theta', '60_1_alpha', '60_2_low_beta', '60_3_high_beta', '60_4_low_gamma', '60_5_middle_gamma', '60_6_high_gamma', '61', '61_highpass', '61_0_delta_theta', '61_1_alpha', '61_2_low_beta', '61_3_high_beta', '61_4_low_gamma', '61_5_middle_gamma', '61_6_high_gamma', '62', '62_highpass', '62_0_delta_theta', '62_1_alpha', '62_2_low_beta', '62_3_high_beta', '62_4_low_gamma', '62_5_middle_gamma', '62_6_high_gamma', '63', '63_highpass', '63_0_delta_theta', '63_1_alpha', '63_2_low_beta', '63_3_high_beta', '63_4_low_gamma', '63_5_middle_gamma', '63_6_high_gamma', '64', '64_highpass', '64_0_delta_theta', '64_1_alpha', '64_2_low_beta', '64_3_high_beta', '64_4_low_gamma', '64_5_middle_gamma', '64_6_high_gamma', '65', '65_highpass', '65_0_delta_theta', '65_1_alpha', '65_2_low_beta', '65_3_high_beta', '65_4_low_gamma', '65_5_middle_gamma', '65_6_high_gamma', '66', '66_highpass', '66_0_delta_theta', '66_1_alpha', '66_2_low_beta', '66_3_high_beta', '66_4_low_gamma', '66_5_middle_gamma', '66_6_high_gamma', '67', '67_highpass', '67_0_delta_theta', '67_1_alpha', '67_2_low_beta', '67_3_high_beta', '67_4_low_gamma', '67_5_middle_gamma', '67_6_high_gamma', '68', '68_highpass', '68_0_delta_theta', '68_1_alpha', '68_2_low_beta', '68_3_high_beta', '68_4_low_gamma', '68_5_middle_gamma', '68_6_high_gamma', '69', '69_highpass', '69_0_delta_theta', '69_1_alpha', '69_2_low_beta', '69_3_high_beta', '69_4_low_gamma', '69_5_middle_gamma', '69_6_high_gamma', '70', '70_highpass', '70_0_delta_theta', '70_1_alpha', '70_2_low_beta', '70_3_high_beta', '70_4_low_gamma', '70_5_middle_gamma', '70_6_high_gamma', '71', '71_highpass', '71_0_delta_theta', '71_1_alpha', '71_2_low_beta', '71_3_high_beta', '71_4_low_gamma', '71_5_middle_gamma', '71_6_high_gamma', '72', '72_highpass', '72_0_delta_theta', '72_1_alpha', '72_2_low_beta', '72_3_high_beta', '72_4_low_gamma', '72_5_middle_gamma', '72_6_high_gamma', '73', '73_highpass', '73_0_delta_theta', '73_1_alpha', '73_2_low_beta', '73_3_high_beta', '73_4_low_gamma', '73_5_middle_gamma', '73_6_high_gamma', '74', '74_highpass', '74_0_delta_theta', '74_1_alpha', '74_2_low_beta', '74_3_high_beta', '74_4_low_gamma', '74_5_middle_gamma', '74_6_high_gamma', '75', '75_highpass', '75_0_delta_theta', '75_1_alpha', '75_2_low_beta', '75_3_high_beta', '75_4_low_gamma', '75_5_middle_gamma', '75_6_high_gamma', '76', '76_highpass', '76_0_delta_theta', '76_1_alpha', '76_2_low_beta', '76_3_high_beta', '76_4_low_gamma', '76_5_middle_gamma', '76_6_high_gamma', '77', '77_highpass', '77_0_delta_theta', '77_1_alpha', '77_2_low_beta', '77_3_high_beta', '77_4_low_gamma', '77_5_middle_gamma', '77_6_high_gamma', '78', '78_highpass', '78_0_delta_theta', '78_1_alpha', '78_2_low_beta', '78_3_high_beta', '78_4_low_gamma', '78_5_middle_gamma', '78_6_high_gamma', '79', '79_highpass', '79_0_delta_theta', '79_1_alpha', '79_2_low_beta', '79_3_high_beta', '79_4_low_gamma', '79_5_middle_gamma', '79_6_high_gamma', '80', '80_highpass', '80_0_delta_theta', '80_1_alpha', '80_2_low_beta', '80_3_high_beta', '80_4_low_gamma', '80_5_middle_gamma', '80_6_high_gamma', '81', '81_highpass', '81_0_delta_theta', '81_1_alpha', '81_2_low_beta', '81_3_high_beta', '81_4_low_gamma', '81_5_middle_gamma', '81_6_high_gamma', '82', '82_highpass', '82_0_delta_theta', '82_1_alpha', '82_2_low_beta', '82_3_high_beta', '82_4_low_gamma', '82_5_middle_gamma', '82_6_high_gamma', '83', '83_highpass', '83_0_delta_theta', '83_1_alpha', '83_2_low_beta', '83_3_high_beta', '83_4_low_gamma', '83_5_middle_gamma', '83_6_high_gamma', '84', '84_highpass', '84_0_delta_theta', '84_1_alpha', '84_2_low_beta', '84_3_high_beta', '84_4_low_gamma', '84_5_middle_gamma', '84_6_high_gamma', '85', '85_highpass', '85_0_delta_theta', '85_1_alpha', '85_2_low_beta', '85_3_high_beta', '85_4_low_gamma', '85_5_middle_gamma', '85_6_high_gamma', '86', '86_highpass', '86_0_delta_theta', '86_1_alpha', '86_2_low_beta', '86_3_high_beta', '86_4_low_gamma', '86_5_middle_gamma', '86_6_high_gamma', '87', '87_highpass', '87_0_delta_theta', '87_1_alpha', '87_2_low_beta', '87_3_high_beta', '87_4_low_gamma', '87_5_middle_gamma', '87_6_high_gamma', '88', '88_highpass', '88_0_delta_theta', '88_1_alpha', '88_2_low_beta', '88_3_high_beta', '88_4_low_gamma', '88_5_middle_gamma', '88_6_high_gamma', '89', '89_highpass', '89_0_delta_theta', '89_1_alpha', '89_2_low_beta', '89_3_high_beta', '89_4_low_gamma', '89_5_middle_gamma', '89_6_high_gamma', '90', '90_highpass', '90_0_delta_theta', '90_1_alpha', '90_2_low_beta', '90_3_high_beta', '90_4_low_gamma', '90_5_middle_gamma', '90_6_high_gamma', '91', '91_highpass', '91_0_delta_theta', '91_1_alpha', '91_2_low_beta', '91_3_high_beta', '91_4_low_gamma', '91_5_middle_gamma', '91_6_high_gamma', '92', '92_highpass', '92_0_delta_theta', '92_1_alpha', '92_2_low_beta', '92_3_high_beta', '92_4_low_gamma', '92_5_middle_gamma', '92_6_high_gamma', '93', '93_highpass', '93_0_delta_theta', '93_1_alpha', '93_2_low_beta', '93_3_high_beta', '93_4_low_gamma', '93_5_middle_gamma', '93_6_high_gamma', '94', '94_highpass', '94_0_delta_theta', '94_1_alpha', '94_2_low_beta', '94_3_high_beta', '94_4_low_gamma', '94_5_middle_gamma', '94_6_high_gamma', '95', '95_highpass', '95_0_delta_theta', '95_1_alpha', '95_2_low_beta', '95_3_high_beta', '95_4_low_gamma', '95_5_middle_gamma', '95_6_high_gamma', '96', '96_highpass', '96_0_delta_theta', '96_1_alpha', '96_2_low_beta', '96_3_high_beta', '96_4_low_gamma', '96_5_middle_gamma', '96_6_high_gamma', '97', '97_highpass', '97_0_delta_theta', '97_1_alpha', '97_2_low_beta', '97_3_high_beta', '97_4_low_gamma', '97_5_middle_gamma', '97_6_high_gamma', '98', '98_highpass', '98_0_delta_theta', '98_1_alpha', '98_2_low_beta', '98_3_high_beta', '98_4_low_gamma', '98_5_middle_gamma', '98_6_high_gamma', '99', '99_highpass', '99_0_delta_theta', '99_1_alpha', '99_2_low_beta', '99_3_high_beta', '99_4_low_gamma', '99_5_middle_gamma', '99_6_high_gamma', '100', '100_highpass', '100_0_delta_theta', '100_1_alpha', '100_2_low_beta', '100_3_high_beta', '100_4_low_gamma', '100_5_middle_gamma', '100_6_high_gamma', '101', '101_highpass', '101_0_delta_theta', '101_1_alpha', '101_2_low_beta', '101_3_high_beta', '101_4_low_gamma', '101_5_middle_gamma', '101_6_high_gamma', '102', '102_highpass', '102_0_delta_theta', '102_1_alpha', '102_2_low_beta', '102_3_high_beta', '102_4_low_gamma', '102_5_middle_gamma', '102_6_high_gamma', '103', '103_highpass', '103_0_delta_theta', '103_1_alpha', '103_2_low_beta', '103_3_high_beta', '103_4_low_gamma', '103_5_middle_gamma', '103_6_high_gamma', '104', '104_highpass', '104_0_delta_theta', '104_1_alpha', '104_2_low_beta', '104_3_high_beta', '104_4_low_gamma', '104_5_middle_gamma', '104_6_high_gamma', '105', '105_highpass', '105_0_delta_theta', '105_1_alpha', '105_2_low_beta', '105_3_high_beta', '105_4_low_gamma', '105_5_middle_gamma', '105_6_high_gamma', '106', '106_highpass', '106_0_delta_theta', '106_1_alpha', '106_2_low_beta', '106_3_high_beta', '106_4_low_gamma', '106_5_middle_gamma', '106_6_high_gamma', '107', '107_highpass', '107_0_delta_theta', '107_1_alpha', '107_2_low_beta', '107_3_high_beta', '107_4_low_gamma', '107_5_middle_gamma', '107_6_high_gamma', '108', '108_highpass', '108_0_delta_theta', '108_1_alpha', '108_2_low_beta', '108_3_high_beta', '108_4_low_gamma', '108_5_middle_gamma', '108_6_high_gamma', '109', '109_highpass', '109_0_delta_theta', '109_1_alpha', '109_2_low_beta', '109_3_high_beta', '109_4_low_gamma', '109_5_middle_gamma', '109_6_high_gamma', '110', '110_highpass', '110_0_delta_theta', '110_1_alpha', '110_2_low_beta', '110_3_high_beta', '110_4_low_gamma', '110_5_middle_gamma', '110_6_high_gamma', '111', '111_highpass', '111_0_delta_theta', '111_1_alpha', '111_2_low_beta', '111_3_high_beta', '111_4_low_gamma', '111_5_middle_gamma', '111_6_high_gamma', '112', '112_highpass', '112_0_delta_theta', '112_1_alpha', '112_2_low_beta', '112_3_high_beta', '112_4_low_gamma', '112_5_middle_gamma', '112_6_high_gamma', '113', '113_highpass', '113_0_delta_theta', '113_1_alpha', '113_2_low_beta', '113_3_high_beta', '113_4_low_gamma', '113_5_middle_gamma', '113_6_high_gamma', '114', '114_highpass', '114_0_delta_theta', '114_1_alpha', '114_2_low_beta', '114_3_high_beta', '114_4_low_gamma', '114_5_middle_gamma', '114_6_high_gamma', '115', '115_highpass', '115_0_delta_theta', '115_1_alpha', '115_2_low_beta', '115_3_high_beta', '115_4_low_gamma', '115_5_middle_gamma', '115_6_high_gamma', '116', '116_highpass', '116_0_delta_theta', '116_1_alpha', '116_2_low_beta', '116_3_high_beta', '116_4_low_gamma', '116_5_middle_gamma', '116_6_high_gamma', '117', '117_highpass', '117_0_delta_theta', '117_1_alpha', '117_2_low_beta', '117_3_high_beta', '117_4_low_gamma', '117_5_middle_gamma', '117_6_high_gamma', '118', '118_highpass', '118_0_delta_theta', '118_1_alpha', '118_2_low_beta', '118_3_high_beta', '118_4_low_gamma', '118_5_middle_gamma', '118_6_high_gamma', '119', '119_highpass', '119_0_delta_theta', '119_1_alpha', '119_2_low_beta', '119_3_high_beta', '119_4_low_gamma', '119_5_middle_gamma', '119_6_high_gamma', '120', '120_highpass', '120_0_delta_theta', '120_1_alpha', '120_2_low_beta', '120_3_high_beta', '120_4_low_gamma', '120_5_middle_gamma', '120_6_high_gamma', '121', '121_highpass', '121_0_delta_theta', '121_1_alpha', '121_2_low_beta', '121_3_high_beta', '121_4_low_gamma', '121_5_middle_gamma', '121_6_high_gamma', '122', '122_highpass', '122_0_delta_theta', '122_1_alpha', '122_2_low_beta', '122_3_high_beta', '122_4_low_gamma', '122_5_middle_gamma', '122_6_high_gamma', '123', '123_highpass', '123_0_delta_theta', '123_1_alpha', '123_2_low_beta', '123_3_high_beta', '123_4_low_gamma', '123_5_middle_gamma', '123_6_high_gamma', '124', '124_highpass', '124_0_delta_theta', '124_1_alpha', '124_2_low_beta', '124_3_high_beta', '124_4_low_gamma', '124_5_middle_gamma', '124_6_high_gamma', '125', '125_highpass', '125_0_delta_theta', '125_1_alpha', '125_2_low_beta', '125_3_high_beta', '125_4_low_gamma', '125_5_middle_gamma', '125_6_high_gamma', '126', '126_highpass', '126_0_delta_theta', '126_1_alpha', '126_2_low_beta', '126_3_high_beta', '126_4_low_gamma', '126_5_middle_gamma', '126_6_high_gamma', '127', '127_highpass', '127_0_delta_theta', '127_1_alpha', '127_2_low_beta', '127_3_high_beta', '127_4_low_gamma', '127_5_middle_gamma', '127_6_high_gamma'])"
      ]
     },
     "metadata": {},
     "execution_count": 2
    }
   ],
   "source": [
    "temp = scipy.io.loadmat(f'EEG/ECoG_{state}.mat')\n",
    "temp.keys()"
   ]
  }
 ]
}