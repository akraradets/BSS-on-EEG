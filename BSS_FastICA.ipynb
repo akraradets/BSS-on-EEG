{
 "metadata": {
  "language_info": {
   "codemirror_mode": {
    "name": "ipython",
    "version": 3
   },
   "file_extension": ".py",
   "mimetype": "text/x-python",
   "name": "python",
   "nbconvert_exporter": "python",
   "pygments_lexer": "ipython3",
   "version": "3.8.5-final"
  },
  "orig_nbformat": 2,
  "kernelspec": {
   "name": "pythondsai",
   "display_name": "pythonDSAI",
   "language": "python"
  }
 },
 "nbformat": 4,
 "nbformat_minor": 2,
 "cells": [
  {
   "cell_type": "code",
   "execution_count": 7,
   "metadata": {},
   "outputs": [
    {
     "output_type": "display_data",
     "data": {
      "text/plain": "HBox(children=(FloatProgress(value=0.0, description='states', max=4.0, style=ProgressStyle(description_width='…",
      "application/vnd.jupyter.widget-view+json": {
       "version_major": 2,
       "version_minor": 0,
       "model_id": "13fc128a3d344423a0654655ac6a36b0"
      }
     },
     "metadata": {}
    },
    {
     "output_type": "display_data",
     "data": {
      "text/plain": "HBox(children=(FloatProgress(value=0.0, description='components', max=9.0, style=ProgressStyle(description_wid…",
      "application/vnd.jupyter.widget-view+json": {
       "version_major": 2,
       "version_minor": 0,
       "model_id": "d2b33362376442cf813069d0044fd91e"
      }
     },
     "metadata": {}
    },
    {
     "output_type": "stream",
     "name": "stdout",
     "text": [
      "(16, 300000)\n",
      "\n",
      "\n"
     ]
    }
   ],
   "source": [
    "import scipy.io\n",
    "import numpy as np\n",
    "import matplotlib.pyplot as plt\n",
    "from tqdm.notebook import tqdm, tnrange\n",
    "\n",
    "# https://scikit-learn.org/stable/modules/generated/sklearn.decomposition.FastICA.html\n",
    "from sklearn.decomposition import FastICA\n",
    "\n",
    "def cal_correlation_coefficient(corr,mode='max',abs=False):\n",
    "    import numpy as np\n",
    "    _list_mode = ['max','sum']\n",
    "    if(type(corr) != type(np.array([]))): corr = np.array(corr)\n",
    "    if(mode not in _list_mode): raise ValueError(f\"mode can only be {_list_mode}\")\n",
    "    if(abs): corr = np.abs(corr)\n",
    "    # print(corr)\n",
    "    if(mode == 'max'): return corr.max(axis=1)\n",
    "    if(mode == 'sum'): return corr.sum(axis=1)\n",
    "\n",
    "corr_mode = 'sum'\n",
    "corr_abs = True\n",
    "# cal_correlation_coefficient(R[:X_chs,X_chs:X_chs+Y_chs],mode='sum',abs=False)\n",
    "\n",
    "\n",
    "# Use all default parameter of FastICA\n",
    "fica = FastICA()\n",
    "\n",
    "# Now we want to perform FastICA on all EEG data we have\n",
    "# We have 4 EEG signals with 16 channels and each consists of 7 components (bands) + original + highpass = 9\n",
    "states = ['deep-anesthetic','low-anesthetic','recovery','rest']\n",
    "components = ['','_highpass','_0_delta_theta','_1_alpha','_2_low_beta','_3_high_beta','_4_low_gamma','_5_middle_gamma','_6_high_gamma']\n",
    "for state in tqdm(states, desc='states'):\n",
    "    mat_eeg = scipy.io.loadmat(f'EEG/EEG_{state}.mat')\n",
    "    mat_ecog = scipy.io.loadmat(f'EEG/ECoG_{state}.mat')\n",
    "    # RUN FastICA on original, highpass, each component\n",
    "    for component in tqdm(components,desc='components'):\n",
    "        eeg = []\n",
    "        for i in range(16):\n",
    "            eeg.append(mat_eeg[f'{i}{component}'][0])\n",
    "        eeg = np.array(eeg)\n",
    "\n",
    "        ecog = []\n",
    "        for i in range(16):\n",
    "            ecog.append(mat_ecog[f'{i}{component}'][0])\n",
    "        ecog = np.array(ecog)\n",
    "        # print(eeg.shape) (16,300000)\n",
    "        # print(ecog.shape) (16,300000)\n",
    "        # (n_features, n_samples)\n",
    "\n",
    "        # X = (n_samples, n_features)\n",
    "        transformed_eeg = fica.fit_transform(eeg.T)\n",
    "        # print(transformed_eeg.shape) (300000, 16)\n",
    "        # (n_samples, n_components)\n",
    "        assert (eeg == transformed_eeg.T).all() == False, f\"You data is the same.\"\n",
    "\n",
    "        R = np.corrcoef(pca_delta_theta, ECoG)\n",
    "    pca_corr = cal_correlation_coefficient(R[:16,16:16+128],mode=corr_mode,abs=corr_abs)\n",
    "\n",
    "        break\n",
    "    break\n"
   ]
  },
  {
   "cell_type": "code",
   "execution_count": 9,
   "metadata": {},
   "outputs": [
    {
     "output_type": "execute_result",
     "data": {
      "text/plain": [
       "dict_keys(['__header__', '__version__', '__globals__', '0', '0_highpass', '0_0_delta_theta', '0_1_alpha', '0_2_low_beta', '0_3_high_beta', '0_4_low_gamma', '0_5_middle_gamma', '0_6_high_gamma', '1', '1_highpass', '1_0_delta_theta', '1_1_alpha', '1_2_low_beta', '1_3_high_beta', '1_4_low_gamma', '1_5_middle_gamma', '1_6_high_gamma', '2', '2_highpass', '2_0_delta_theta', '2_1_alpha', '2_2_low_beta', '2_3_high_beta', '2_4_low_gamma', '2_5_middle_gamma', '2_6_high_gamma', '3', '3_highpass', '3_0_delta_theta', '3_1_alpha', '3_2_low_beta', '3_3_high_beta', '3_4_low_gamma', '3_5_middle_gamma', '3_6_high_gamma', '4', '4_highpass', '4_0_delta_theta', '4_1_alpha', '4_2_low_beta', '4_3_high_beta', '4_4_low_gamma', '4_5_middle_gamma', '4_6_high_gamma', '5', '5_highpass', '5_0_delta_theta', '5_1_alpha', '5_2_low_beta', '5_3_high_beta', '5_4_low_gamma', '5_5_middle_gamma', '5_6_high_gamma', '6', '6_highpass', '6_0_delta_theta', '6_1_alpha', '6_2_low_beta', '6_3_high_beta', '6_4_low_gamma', '6_5_middle_gamma', '6_6_high_gamma', '7', '7_highpass', '7_0_delta_theta', '7_1_alpha', '7_2_low_beta', '7_3_high_beta', '7_4_low_gamma', '7_5_middle_gamma', '7_6_high_gamma', '8', '8_highpass', '8_0_delta_theta', '8_1_alpha', '8_2_low_beta', '8_3_high_beta', '8_4_low_gamma', '8_5_middle_gamma', '8_6_high_gamma', '9', '9_highpass', '9_0_delta_theta', '9_1_alpha', '9_2_low_beta', '9_3_high_beta', '9_4_low_gamma', '9_5_middle_gamma', '9_6_high_gamma', '10', '10_highpass', '10_0_delta_theta', '10_1_alpha', '10_2_low_beta', '10_3_high_beta', '10_4_low_gamma', '10_5_middle_gamma', '10_6_high_gamma', '11', '11_highpass', '11_0_delta_theta', '11_1_alpha', '11_2_low_beta', '11_3_high_beta', '11_4_low_gamma', '11_5_middle_gamma', '11_6_high_gamma', '12', '12_highpass', '12_0_delta_theta', '12_1_alpha', '12_2_low_beta', '12_3_high_beta', '12_4_low_gamma', '12_5_middle_gamma', '12_6_high_gamma', '13', '13_highpass', '13_0_delta_theta', '13_1_alpha', '13_2_low_beta', '13_3_high_beta', '13_4_low_gamma', '13_5_middle_gamma', '13_6_high_gamma', '14', '14_highpass', '14_0_delta_theta', '14_1_alpha', '14_2_low_beta', '14_3_high_beta', '14_4_low_gamma', '14_5_middle_gamma', '14_6_high_gamma', '15', '15_highpass', '15_0_delta_theta', '15_1_alpha', '15_2_low_beta', '15_3_high_beta', '15_4_low_gamma', '15_5_middle_gamma', '15_6_high_gamma'])"
      ]
     },
     "metadata": {},
     "execution_count": 9
    }
   ],
   "source": [
    "temp = scipy.io.loadmat(f'EEG/ECoG_{state}.mat')\n",
    "temp.keys()"
   ]
  }
 ]
}