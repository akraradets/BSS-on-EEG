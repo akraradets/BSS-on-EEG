{
 "metadata": {
  "language_info": {
   "codemirror_mode": {
    "name": "ipython",
    "version": 3
   },
   "file_extension": ".py",
   "mimetype": "text/x-python",
   "name": "python",
   "nbconvert_exporter": "python",
   "pygments_lexer": "ipython3",
   "version": "3.8.5-final"
  },
  "orig_nbformat": 2,
  "kernelspec": {
   "name": "pythondsai",
   "display_name": "pythonDSAI",
   "language": "python"
  }
 },
 "nbformat": 4,
 "nbformat_minor": 2,
 "cells": [
  {
   "cell_type": "code",
   "execution_count": 1,
   "metadata": {},
   "outputs": [
    {
     "output_type": "display_data",
     "data": {
      "text/plain": "HBox(children=(FloatProgress(value=0.0, description='states', max=1.0, style=ProgressStyle(description_width='…",
      "application/vnd.jupyter.widget-view+json": {
       "version_major": 2,
       "version_minor": 0,
       "model_id": "a925b58d6423418ab2186078ceed79a5"
      }
     },
     "metadata": {}
    },
    {
     "output_type": "display_data",
     "data": {
      "text/plain": "HBox(children=(FloatProgress(value=0.0, description='components', max=9.0, style=ProgressStyle(description_wid…",
      "application/vnd.jupyter.widget-view+json": {
       "version_major": 2,
       "version_minor": 0,
       "model_id": "41a0acb741574eacaa0c7fa7687f41c1"
      }
     },
     "metadata": {}
    },
    {
     "output_type": "display_data",
     "data": {
      "text/plain": "HBox(children=(FloatProgress(value=0.0, description='EVs', max=16.0, style=ProgressStyle(description_width='in…",
      "application/vnd.jupyter.widget-view+json": {
       "version_major": 2,
       "version_minor": 0,
       "model_id": "450481f032e1494f8ef2b5123737638c"
      }
     },
     "metadata": {}
    },
    {
     "output_type": "stream",
     "name": "stdout",
     "text": [
      "\n"
     ]
    },
    {
     "output_type": "display_data",
     "data": {
      "text/plain": "HBox(children=(FloatProgress(value=0.0, description='EVs', max=16.0, style=ProgressStyle(description_width='in…",
      "application/vnd.jupyter.widget-view+json": {
       "version_major": 2,
       "version_minor": 0,
       "model_id": "2f562f891fa04f83bcbddc51e82bda79"
      }
     },
     "metadata": {}
    },
    {
     "output_type": "stream",
     "name": "stdout",
     "text": [
      "\n"
     ]
    },
    {
     "output_type": "display_data",
     "data": {
      "text/plain": "HBox(children=(FloatProgress(value=0.0, description='EVs', max=16.0, style=ProgressStyle(description_width='in…",
      "application/vnd.jupyter.widget-view+json": {
       "version_major": 2,
       "version_minor": 0,
       "model_id": "76e2885713354c41b0203eb8cdecde9f"
      }
     },
     "metadata": {}
    },
    {
     "output_type": "stream",
     "name": "stdout",
     "text": [
      "\n"
     ]
    },
    {
     "output_type": "display_data",
     "data": {
      "text/plain": "HBox(children=(FloatProgress(value=0.0, description='EVs', max=16.0, style=ProgressStyle(description_width='in…",
      "application/vnd.jupyter.widget-view+json": {
       "version_major": 2,
       "version_minor": 0,
       "model_id": "90dcde891820437bb8d725f80b7bd154"
      }
     },
     "metadata": {}
    },
    {
     "output_type": "stream",
     "name": "stdout",
     "text": [
      "\n"
     ]
    },
    {
     "output_type": "display_data",
     "data": {
      "text/plain": "HBox(children=(FloatProgress(value=0.0, description='EVs', max=16.0, style=ProgressStyle(description_width='in…",
      "application/vnd.jupyter.widget-view+json": {
       "version_major": 2,
       "version_minor": 0,
       "model_id": "04fd2332de464b3ba5d7aeef08b30f14"
      }
     },
     "metadata": {}
    },
    {
     "output_type": "stream",
     "name": "stdout",
     "text": [
      "\n"
     ]
    },
    {
     "output_type": "display_data",
     "data": {
      "text/plain": "HBox(children=(FloatProgress(value=0.0, description='EVs', max=16.0, style=ProgressStyle(description_width='in…",
      "application/vnd.jupyter.widget-view+json": {
       "version_major": 2,
       "version_minor": 0,
       "model_id": "288f8cf8169447eab033a5ee7fbb5b0d"
      }
     },
     "metadata": {}
    },
    {
     "output_type": "stream",
     "name": "stdout",
     "text": [
      "\n"
     ]
    },
    {
     "output_type": "display_data",
     "data": {
      "text/plain": "HBox(children=(FloatProgress(value=0.0, description='EVs', max=16.0, style=ProgressStyle(description_width='in…",
      "application/vnd.jupyter.widget-view+json": {
       "version_major": 2,
       "version_minor": 0,
       "model_id": "2a2071364bbe46a99dc656e99ca35cf2"
      }
     },
     "metadata": {}
    },
    {
     "output_type": "stream",
     "name": "stdout",
     "text": [
      "\n"
     ]
    },
    {
     "output_type": "display_data",
     "data": {
      "text/plain": "HBox(children=(FloatProgress(value=0.0, description='EVs', max=16.0, style=ProgressStyle(description_width='in…",
      "application/vnd.jupyter.widget-view+json": {
       "version_major": 2,
       "version_minor": 0,
       "model_id": "474f91cfd98544ddb526fa6a2c6ab64f"
      }
     },
     "metadata": {}
    },
    {
     "output_type": "stream",
     "name": "stdout",
     "text": [
      "\n"
     ]
    },
    {
     "output_type": "display_data",
     "data": {
      "text/plain": "HBox(children=(FloatProgress(value=0.0, description='EVs', max=16.0, style=ProgressStyle(description_width='in…",
      "application/vnd.jupyter.widget-view+json": {
       "version_major": 2,
       "version_minor": 0,
       "model_id": "932d4ce80711418a8f7934c7b5e3b1a7"
      }
     },
     "metadata": {}
    },
    {
     "output_type": "stream",
     "name": "stdout",
     "text": [
      "\n\n\n"
     ]
    }
   ],
   "source": [
    "import scipy.io\n",
    "import numpy as np\n",
    "import matplotlib.pyplot as plt\n",
    "from tqdm.notebook import tqdm, tnrange\n",
    "\n",
    "from sklearn.cross_decomposition import CCA\n",
    "\n",
    "def cal_correlation_coefficient(corr,mode='max',abs=False):\n",
    "    import numpy as np\n",
    "    _list_mode = ['max','sum']\n",
    "    if(type(corr) != type(np.array([]))): corr = np.array(corr)\n",
    "    if(mode not in _list_mode): raise ValueError(f\"mode can only be {_list_mode}\")\n",
    "    if(abs): corr = np.abs(corr)\n",
    "    # print(corr)\n",
    "    if(mode == 'max'): return corr.max(axis=1)\n",
    "    if(mode == 'sum'): return corr.sum(axis=1)\n",
    "\n",
    "corr_mode = 'sum'\n",
    "corr_abs = True\n",
    "# cal_correlation_coefficient(R[:X_chs,X_chs:X_chs+Y_chs],mode='sum',abs=False)\n",
    "\n",
    "\n",
    "# Use all default parameter of FastICA\n",
    "import pyroomacoustics as pra\n",
    "\n",
    "## Prepare one-shot STFT\n",
    "L = 1000\n",
    "hop = L // 2\n",
    "win_a = pra.hamming(L)\n",
    "win_s = pra.transform.stft.compute_synthesis_window(win_a, hop)\n",
    "\n",
    "# Now we want to perform FastICA on all EEG data we have\n",
    "# We have 4 EEG signals with 16 channels and each consists of 7 components (bands) + original + highpass = 9\n",
    "states = ['rest']\n",
    "components = ['','_highpass','_0_delta_theta','_1_alpha','_2_low_beta','_3_high_beta','_4_low_gamma','_5_middle_gamma','_6_high_gamma']\n",
    "for state in tqdm(states, desc='states'):\n",
    "    mat_eeg = scipy.io.loadmat(f'EEG/EEG_{state}.mat')\n",
    "    mat_ecog = scipy.io.loadmat(f'EEG/ECoG_{state}.mat')\n",
    "    # RUN FastICA on original, highpass, each component\n",
    "    for component in tqdm(components,desc='components'):\n",
    "        eeg = []\n",
    "        for i in range(16):\n",
    "            eeg.append(mat_eeg[f'{i}{component}'][0])\n",
    "        eeg = np.array(eeg)\n",
    "\n",
    "        ecog = []\n",
    "        for i in range(128):\n",
    "            ecog.append(mat_ecog[f'{i}{component}'][0])\n",
    "        ecog = np.array(ecog)\n",
    "        # print(eeg.shape) (16,300000)\n",
    "        # print(ecog.shape) (128,300000)\n",
    "        # (n_features, n_samples)\n",
    "\n",
    "        ## STFT ANALYSIS\n",
    "        # (n_samples, n_channels)\n",
    "        X = pra.transform.stft.analysis(eeg.T, L, hop, win=win_a)\n",
    "        # print(X.shape) #(600, 501, 16)\n",
    "        # Run ILRMA\n",
    "        Y = pra.bss.ilrma(X, n_iter=200, n_components=60, proj_back=True) #callback=convergence_callback)\n",
    "        transformed_eeg = pra.transform.stft.synthesis(Y, L, hop, win=win_s)\n",
    "#         print(transformed_eeg.shape)\n",
    "        # (300000, 16)\n",
    "\n",
    "        # (n_samples, n_components)\n",
    "        assert (eeg == transformed_eeg.T).all() == False, f\"You data is the same.\"\n",
    "\n",
    "        R = np.corrcoef(transformed_eeg.T, ecog)\n",
    "        corr = cal_correlation_coefficient(R[:16,16:16+128],mode=corr_mode,abs=corr_abs)\n",
    "        # print(corr.shape) (16,)\n",
    "        # Step4\n",
    "        # argsort is acsding. [::-1] will revert the result\n",
    "        group = []\n",
    "        EVs = []\n",
    "        for idx in tqdm(corr.argsort()[::-1],desc='EVs'):\n",
    "            group.append(idx)\n",
    "            # print(transformed_eeg.T[group].shape)\n",
    "            # For each subset of EEG components, applied CCA\n",
    "            ev_cca = CCA(n_components=len(group))\n",
    "            ev_cca.fit(transformed_eeg.T[group].T,ecog.T)\n",
    "            ev_R = np.corrcoef(ev_cca.x_scores_.T,ev_cca.y_scores_.T)\n",
    "            # print(ev_R.shape)\n",
    "            # print(ev_R)\n",
    "            # the \"sum of canonical correlation coefficients\" was calculated for each freq, state, and subject\n",
    "            ccc = cal_correlation_coefficient(ev_R[:len(group),len(group):2*len(group)],mode='sum',abs=True)\n",
    "            EVs.append(ccc)\n",
    "            # print(EVs)\n",
    "            # if(len(group) == 16): break\n",
    "        # print(EVs)\n",
    "        scipy.io.savemat(f'BSS/ILRMA_1000_{state}{component}.mat', dict({'EVs': EVs}))\n",
    "        # break\n",
    "    # break\n"
   ]
  }
 ]
}