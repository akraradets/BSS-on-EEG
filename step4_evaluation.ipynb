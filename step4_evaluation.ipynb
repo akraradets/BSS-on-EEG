{
 "metadata": {
  "language_info": {
   "codemirror_mode": {
    "name": "ipython",
    "version": 3
   },
   "file_extension": ".py",
   "mimetype": "text/x-python",
   "name": "python",
   "nbconvert_exporter": "python",
   "pygments_lexer": "ipython3",
   "version": "3.8.5-final"
  },
  "orig_nbformat": 2,
  "kernelspec": {
   "name": "pythondsai",
   "display_name": "pythonDSAI",
   "language": "python"
  }
 },
 "nbformat": 4,
 "nbformat_minor": 2,
 "cells": [
  {
   "cell_type": "code",
   "execution_count": 1,
   "metadata": {},
   "outputs": [],
   "source": [
    "import scipy.io\n",
    "import matplotlib.pyplot as plt\n",
    "import matplotlib.image as mpimg\n",
    "import numpy as np\n",
    "\n",
    "import scipy.signal as signal\n",
    "from myFilter import Filter as Filter\n",
    "import os\n",
    "plt.style.use('seaborn-whitegrid')\n",
    "\n",
    "def calFFT(signal, window = 2048 , shift = False , inDB = False, half = True, normf=True, fs=None):\n",
    "    \n",
    "    from scipy.fftpack import fft, fftshift\n",
    "    mag = np.abs(fft(signal, window) / (len(signal)/2.0))\n",
    "    freq = np.linspace(0, 1, len(mag))\n",
    "\n",
    "    if shift:\n",
    "        mag = np.abs(fftshift(mag / abs(mag).max() ) )\n",
    "        freq = np.linspace(-0.5, 0.5, len(mag))\n",
    "        \n",
    "    \n",
    "    if inDB:\n",
    "        mag = 20 * np.log10( mag )\n",
    "\n",
    "    if normf == False:\n",
    "        if fs == None:\n",
    "            raise ValueError(\"Give me 'fs'\")\n",
    "        freq = np.linspace(0, fs, len(mag) )\n",
    "\n",
    "    if half:\n",
    "        mag = mag[:len(mag)//2]\n",
    "        freq = freq[:len(freq)//2]\n",
    "\n",
    "    return mag, freq\n",
    "\n",
    "def matInfo(mat):\n",
    "    print(mat.keys())\n",
    "    for key in mat.keys():\n",
    "        print(f\"mat['{key}'] - {mat[key]}\")\n",
    "\n",
    "samplingRate = 1000 #hz"
   ]
  },
  {
   "cell_type": "code",
   "execution_count": 2,
   "metadata": {},
   "outputs": [],
   "source": [
    "def cal_correlation_coefficient(corr,mode='max',abs=False):\n",
    "    import numpy as np\n",
    "    _list_mode = ['max','sum']\n",
    "    if(type(corr) != type(np.array([]))): corr = np.array(corr)\n",
    "    if(mode not in _list_mode): raise ValueError(f\"mode can only be {_list_mode}\")\n",
    "    if(abs): corr = np.abs(corr)\n",
    "    # print(corr)\n",
    "    if(mode == 'max'): return corr.max(axis=1)\n",
    "    if(mode == 'sum'): return corr.sum(axis=1)\n",
    "\n",
    "corr_mode = 'sum'\n",
    "corr_abs = True\n",
    "# cal_correlation_coefficient(R[:X_chs,X_chs:X_chs+Y_chs],mode='sum',abs=False)"
   ]
  },
  {
   "cell_type": "code",
   "execution_count": 3,
   "metadata": {},
   "outputs": [],
   "source": [
    "# Load result from previous step\n",
    "bss = scipy.io.loadmat('BSS/step2.mat')\n",
    "\n",
    "pca = bss['pca']\n",
    "pca_corr = bss['pca_corr'][0]\n",
    "\n",
    "ilrma = bss['ilrma']\n",
    "ilrma_corr = bss['ilrma_corr'][0]\n",
    "\n",
    "cca = bss['cca']\n",
    "cca_corr = bss['cca_corr'][0]\n",
    "\n",
    "del(bss)"
   ]
  },
  {
   "cell_type": "code",
   "execution_count": 4,
   "metadata": {},
   "outputs": [],
   "source": [
    "#  Load ECoG for Correlation Coefficients calculation\n",
    "ECoG = scipy.io.loadmat('dataset/20120904S11_EEGECoG_Chibi_Oosugi-Naoya+Nagasaka-Yasuo+Hasegawa+Naomi_ECoG128-EEG16_mat/ECoG_rest.mat')\n",
    "ECoG = ECoG['ECoG']\n",
    "# (128, 300000)"
   ]
  },
  {
   "cell_type": "code",
   "execution_count": 5,
   "metadata": {},
   "outputs": [],
   "source": [
    "EVs = dict()"
   ]
  },
  {
   "cell_type": "code",
   "execution_count": 6,
   "metadata": {},
   "outputs": [
    {
     "output_type": "stream",
     "name": "stdout",
     "text": [
      "[1.11620275 1.92321668 1.57905784 1.06816192 1.42210329 1.58783369\n",
      " 1.31137826 1.27184437 1.52574255 0.91003249 1.21193236 1.09855706\n",
      " 1.90151398 1.22922325 1.32471476 1.39643461]\n",
      "(1, 300000)\n",
      "(2, 300000)\n",
      "(3, 300000)\n",
      "(4, 300000)\n"
     ]
    }
   ],
   "source": [
    "from sklearn.cross_decomposition import CCA\n",
    "# Step4\n",
    "# Sorting the Correlation Coefficient of each component\n",
    "print(pca_corr)\n",
    "# argsort is acsding. [::-1] will revert the result\n",
    "group = []\n",
    "pca_EVs = []\n",
    "\n",
    "\n",
    "for idx in pca_corr.argsort()[::-1]:\n",
    "    group.append(idx)\n",
    "    print(pca[group].shape)\n",
    "    # For each subset of EEG components, applied CCA\n",
    "    ccA = CCA(n_components=len(group))\n",
    "    ccA.fit(pca[group].T,ECoG.T)\n",
    "    R = np.corrcoef(ccA.x_scores_.T,ccA.y_scores_.T)\n",
    "    # the \"sum of canonical correlation coefficients\" was calculated for each freq, state, and subject\n",
    "\n",
    "    ccc = cal_correlation_coefficient(R[:len(group),len(group):2*len(group)],mode='sum',abs=True)\n",
    "    pca_EVs.append(ccc)\n",
    "    if(len(group) == 16): break\n",
    "\n",
    "EVs['pca'] = pca_EVs"
   ]
  },
  {
   "cell_type": "code",
   "execution_count": 7,
   "metadata": {},
   "outputs": [
    {
     "output_type": "stream",
     "name": "stdout",
     "text": [
      "[array([0.12571513]) array([0.15303828, 0.11211748])\n array([0.16295276, 0.1526426 , 0.10433187])\n array([0.16720068, 0.16202698, 0.11778736, 0.10359923])]\n0.12571512882543218\n0.26515575831938115\n0.4199272321315437\n0.5506142507510275\n"
     ]
    }
   ],
   "source": [
    "pca_EVs = np.array(pca_EVs)\n",
    "print(pca_EVs)\n",
    "for i in pca_EVs:\n",
    "    print(sum(i))\n",
    "\n",
    "# print(pca_EVs)"
   ]
  },
  {
   "cell_type": "code",
   "execution_count": 8,
   "metadata": {},
   "outputs": [
    {
     "output_type": "stream",
     "name": "stdout",
     "text": [
      "[0.89387775 0.9687917  0.87191529 1.09170352 1.24083348 1.0763857\n",
      " 0.77957677 0.80384619 0.62742127 0.7794157  0.68363395 0.86344269\n",
      " 1.17142753 1.02547387 0.74474732 1.04431318]\n",
      "(1, 300000)\n",
      "(2, 300000)\n",
      "(3, 300000)\n",
      "(4, 300000)\n"
     ]
    }
   ],
   "source": [
    "print(ilrma_corr)\n",
    "# argsort is acsding. [::-1] will revert the result\n",
    "group = []\n",
    "ilrma_EVs = []\n",
    "\n",
    "\n",
    "for idx in ilrma_corr.argsort()[::-1]:\n",
    "    group.append(idx)\n",
    "    print(ilrma[group].shape)\n",
    "    # For each subset of EEG components, applied CCA\n",
    "    ccA = CCA(n_components=len(group))\n",
    "    ccA.fit(ilrma[group].T,ECoG.T)\n",
    "    R = np.corrcoef(ccA.x_scores_.T,ccA.y_scores_.T)\n",
    "    # the \"sum of canonical correlation coefficients\" was calculated for each freq, state, and subject\n",
    "    ccc = cal_correlation_coefficient(R[:len(group),len(group):2*len(group)],mode='sum',abs=True)\n",
    "    ilrma_EVs.append(ccc)\n",
    "    if(len(group) == 16): break\n",
    "\n",
    "EVs['ilrma'] = ilrma_EVs"
   ]
  },
  {
   "cell_type": "code",
   "execution_count": 9,
   "metadata": {},
   "outputs": [
    {
     "output_type": "stream",
     "name": "stdout",
     "text": [
      "[2.24640275 2.79993629 1.70613402 1.11679859 1.05274363 1.36338489\n",
      " 1.19940576 1.18514694 1.27250003 1.33580075 0.88262981 0.99754068\n",
      " 1.10933771 0.99603263 1.23702154 0.57014543]\n",
      "(1, 300000)\n",
      "(2, 300000)\n",
      "(3, 300000)\n",
      "(4, 300000)\n"
     ]
    }
   ],
   "source": [
    "print(cca_corr)\n",
    "# argsort is acsding. [::-1] will revert the result\n",
    "group = []\n",
    "cca_EVs = []\n",
    "\n",
    "\n",
    "for idx in cca_corr.argsort()[::-1]:\n",
    "    group.append(idx)\n",
    "    print(cca[group].shape)\n",
    "    # For each subset of EEG components, applied CCA\n",
    "    ccA = CCA(n_components=len(group))\n",
    "    ccA.fit(cca[group].T,ECoG.T)\n",
    "    R = np.corrcoef(ccA.x_scores_.T,ccA.y_scores_.T)\n",
    "    # the \"sum of canonical correlation coefficients\" was calculated for each freq, state, and subject\n",
    "    ccc = cal_correlation_coefficient(R[:len(group),len(group):2*len(group)],mode='sum',abs=True)\n",
    "    cca_EVs.append(ccc)\n",
    "    if(len(group) == 16): break\n",
    "\n",
    "EVs['cca'] = cca_EVs"
   ]
  },
  {
   "cell_type": "code",
   "execution_count": 10,
   "metadata": {},
   "outputs": [],
   "source": [
    "if(os.path.exists('BSS') == False):\n",
    "    os.mkdir('BSS')\n",
    "    \n",
    "scipy.io.savemat('BSS/EVs.mat',EVs)"
   ]
  },
  {
   "cell_type": "code",
   "execution_count": 12,
   "metadata": {},
   "outputs": [
    {
     "output_type": "execute_result",
     "data": {
      "text/plain": [
       "(-0.15000000000000002, 3.15, 0.09227761940675872, 0.8279028266175745)"
      ]
     },
     "metadata": {},
     "execution_count": 12
    },
    {
     "output_type": "display_data",
     "data": {
      "text/plain": "<Figure size 432x288 with 1 Axes>",
      "image/svg+xml": "<?xml version=\"1.0\" encoding=\"utf-8\" standalone=\"no\"?>\n<!DOCTYPE svg PUBLIC \"-//W3C//DTD SVG 1.1//EN\"\n  \"http://www.w3.org/Graphics/SVG/1.1/DTD/svg11.dtd\">\n<!-- Created with matplotlib (https://matplotlib.org/) -->\n<svg height=\"245.068886pt\" version=\"1.1\" viewBox=\"0 0 378.001562 245.068886\" width=\"378.001562pt\" xmlns=\"http://www.w3.org/2000/svg\" xmlns:xlink=\"http://www.w3.org/1999/xlink\">\n <metadata>\n  <rdf:RDF xmlns:cc=\"http://creativecommons.org/ns#\" xmlns:dc=\"http://purl.org/dc/elements/1.1/\" xmlns:rdf=\"http://www.w3.org/1999/02/22-rdf-syntax-ns#\">\n   <cc:Work>\n    <dc:type rdf:resource=\"http://purl.org/dc/dcmitype/StillImage\"/>\n    <dc:date>2020-12-31T03:44:09.245489</dc:date>\n    <dc:format>image/svg+xml</dc:format>\n    <dc:creator>\n     <cc:Agent>\n      <dc:title>Matplotlib v3.3.2, https://matplotlib.org/</dc:title>\n     </cc:Agent>\n    </dc:creator>\n   </cc:Work>\n  </rdf:RDF>\n </metadata>\n <defs>\n  <style type=\"text/css\">*{stroke-linecap:butt;stroke-linejoin:round;}</style>\n </defs>\n <g id=\"figure_1\">\n  <g id=\"patch_1\">\n   <path d=\"M 0 245.068886 \nL 378.001562 245.068886 \nL 378.001562 0 \nL 0 0 \nz\n\" style=\"fill:#ffffff;\"/>\n  </g>\n  <g id=\"axes_1\">\n   <g id=\"patch_2\">\n    <path d=\"M 36.001563 225.047011 \nL 370.801562 225.047011 \nL 370.801562 7.607011 \nL 36.001563 7.607011 \nz\n\" style=\"fill:#ffffff;\"/>\n   </g>\n   <g id=\"matplotlib.axis_1\">\n    <g id=\"xtick_1\">\n     <g id=\"line2d_1\">\n      <path clip-path=\"url(#p270cba3687)\" d=\"M 51.219744 225.047011 \nL 51.219744 7.607011 \n\" style=\"fill:none;stroke:#cccccc;stroke-linecap:round;stroke-width:0.8;\"/>\n     </g>\n     <g id=\"line2d_2\"/>\n     <g id=\"text_1\">\n      <!-- 0.0 -->\n      <g style=\"fill:#262626;\" transform=\"translate(44.269744 235.793886)scale(0.1 -0.1)\">\n       <defs>\n        <path d=\"M 51.703125 34.421875 \nQ 51.703125 24.515625 49.828125 17.75 \nQ 47.953125 10.984375 44.703125 6.8125 \nQ 41.453125 2.640625 37.0625 0.828125 \nQ 32.671875 -0.984375 27.6875 -0.984375 \nQ 22.65625 -0.984375 18.3125 0.828125 \nQ 13.96875 2.640625 10.765625 6.78125 \nQ 7.5625 10.9375 5.734375 17.703125 \nQ 3.90625 24.46875 3.90625 34.421875 \nQ 3.90625 44.828125 5.734375 51.640625 \nQ 7.5625 58.453125 10.78125 62.5 \nQ 14.015625 66.546875 18.40625 68.1875 \nQ 22.796875 69.828125 27.984375 69.828125 \nQ 32.90625 69.828125 37.21875 68.1875 \nQ 41.546875 66.546875 44.765625 62.5 \nQ 48 58.453125 49.84375 51.640625 \nQ 51.703125 44.828125 51.703125 34.421875 \nz\nM 42.78125 34.421875 \nQ 42.78125 42.625 41.796875 48.0625 \nQ 40.828125 53.515625 38.921875 56.765625 \nQ 37.015625 60.015625 34.25 61.359375 \nQ 31.5 62.703125 27.984375 62.703125 \nQ 24.265625 62.703125 21.4375 61.328125 \nQ 18.609375 59.96875 16.671875 56.71875 \nQ 14.75 53.46875 13.765625 48.015625 \nQ 12.796875 42.578125 12.796875 34.421875 \nQ 12.796875 26.515625 13.796875 21.09375 \nQ 14.796875 15.671875 16.71875 12.375 \nQ 18.65625 9.078125 21.4375 7.640625 \nQ 24.21875 6.203125 27.78125 6.203125 \nQ 31.25 6.203125 34.03125 7.640625 \nQ 36.8125 9.078125 38.734375 12.375 \nQ 40.671875 15.671875 41.71875 21.09375 \nQ 42.78125 26.515625 42.78125 34.421875 \nz\n\" id=\"LiberationSans-48\"/>\n        <path d=\"M 9.125 0 \nL 9.125 10.6875 \nL 18.65625 10.6875 \nL 18.65625 0 \nz\n\" id=\"LiberationSans-46\"/>\n       </defs>\n       <use xlink:href=\"#LiberationSans-48\"/>\n       <use x=\"55.615234\" xlink:href=\"#LiberationSans-46\"/>\n       <use x=\"83.398438\" xlink:href=\"#LiberationSans-48\"/>\n      </g>\n     </g>\n    </g>\n    <g id=\"xtick_2\">\n     <g id=\"line2d_3\">\n      <path clip-path=\"url(#p270cba3687)\" d=\"M 101.947017 225.047011 \nL 101.947017 7.607011 \n\" style=\"fill:none;stroke:#cccccc;stroke-linecap:round;stroke-width:0.8;\"/>\n     </g>\n     <g id=\"line2d_4\"/>\n     <g id=\"text_2\">\n      <!-- 0.5 -->\n      <g style=\"fill:#262626;\" transform=\"translate(94.997017 235.793886)scale(0.1 -0.1)\">\n       <defs>\n        <path d=\"M 51.421875 22.40625 \nQ 51.421875 17.234375 49.859375 12.9375 \nQ 48.296875 8.640625 45.21875 5.53125 \nQ 42.140625 2.4375 37.578125 0.71875 \nQ 33.015625 -0.984375 27 -0.984375 \nQ 21.578125 -0.984375 17.546875 0.28125 \nQ 13.53125 1.5625 10.734375 3.78125 \nQ 7.953125 6 6.3125 8.984375 \nQ 4.6875 11.96875 4 15.375 \nL 12.890625 16.40625 \nQ 13.421875 14.453125 14.390625 12.625 \nQ 15.375 10.796875 17.0625 9.34375 \nQ 18.75 7.90625 21.21875 7.046875 \nQ 23.6875 6.203125 27.203125 6.203125 \nQ 30.609375 6.203125 33.390625 7.25 \nQ 36.1875 8.296875 38.15625 10.34375 \nQ 40.140625 12.40625 41.203125 15.375 \nQ 42.28125 18.359375 42.28125 22.21875 \nQ 42.28125 25.390625 41.25 28.046875 \nQ 40.234375 30.71875 38.328125 32.640625 \nQ 36.421875 34.578125 33.65625 35.640625 \nQ 30.90625 36.71875 27.390625 36.71875 \nQ 25.203125 36.71875 23.34375 36.328125 \nQ 21.484375 35.9375 19.890625 35.25 \nQ 18.3125 34.578125 17.015625 33.671875 \nQ 15.71875 32.765625 14.59375 31.78125 \nL 6 31.78125 \nL 8.296875 68.796875 \nL 47.40625 68.796875 \nL 47.40625 61.328125 \nL 16.3125 61.328125 \nL 14.984375 39.5 \nQ 17.328125 41.3125 20.84375 42.59375 \nQ 24.359375 43.890625 29.203125 43.890625 \nQ 34.328125 43.890625 38.421875 42.328125 \nQ 42.53125 40.765625 45.40625 37.90625 \nQ 48.296875 35.0625 49.859375 31.109375 \nQ 51.421875 27.15625 51.421875 22.40625 \nz\n\" id=\"LiberationSans-53\"/>\n       </defs>\n       <use xlink:href=\"#LiberationSans-48\"/>\n       <use x=\"55.615234\" xlink:href=\"#LiberationSans-46\"/>\n       <use x=\"83.398438\" xlink:href=\"#LiberationSans-53\"/>\n      </g>\n     </g>\n    </g>\n    <g id=\"xtick_3\">\n     <g id=\"line2d_5\">\n      <path clip-path=\"url(#p270cba3687)\" d=\"M 152.67429 225.047011 \nL 152.67429 7.607011 \n\" style=\"fill:none;stroke:#cccccc;stroke-linecap:round;stroke-width:0.8;\"/>\n     </g>\n     <g id=\"line2d_6\"/>\n     <g id=\"text_3\">\n      <!-- 1.0 -->\n      <g style=\"fill:#262626;\" transform=\"translate(145.72429 235.793886)scale(0.1 -0.1)\">\n       <defs>\n        <path d=\"M 7.625 0 \nL 7.625 7.46875 \nL 25.140625 7.46875 \nL 25.140625 60.40625 \nL 9.625 49.3125 \nL 9.625 57.625 \nL 25.875 68.796875 \nL 33.984375 68.796875 \nL 33.984375 7.46875 \nL 50.734375 7.46875 \nL 50.734375 0 \nz\n\" id=\"LiberationSans-49\"/>\n       </defs>\n       <use xlink:href=\"#LiberationSans-49\"/>\n       <use x=\"55.615234\" xlink:href=\"#LiberationSans-46\"/>\n       <use x=\"83.398438\" xlink:href=\"#LiberationSans-48\"/>\n      </g>\n     </g>\n    </g>\n    <g id=\"xtick_4\">\n     <g id=\"line2d_7\">\n      <path clip-path=\"url(#p270cba3687)\" d=\"M 203.401562 225.047011 \nL 203.401562 7.607011 \n\" style=\"fill:none;stroke:#cccccc;stroke-linecap:round;stroke-width:0.8;\"/>\n     </g>\n     <g id=\"line2d_8\"/>\n     <g id=\"text_4\">\n      <!-- 1.5 -->\n      <g style=\"fill:#262626;\" transform=\"translate(196.451562 235.793886)scale(0.1 -0.1)\">\n       <use xlink:href=\"#LiberationSans-49\"/>\n       <use x=\"55.615234\" xlink:href=\"#LiberationSans-46\"/>\n       <use x=\"83.398438\" xlink:href=\"#LiberationSans-53\"/>\n      </g>\n     </g>\n    </g>\n    <g id=\"xtick_5\">\n     <g id=\"line2d_9\">\n      <path clip-path=\"url(#p270cba3687)\" d=\"M 254.128835 225.047011 \nL 254.128835 7.607011 \n\" style=\"fill:none;stroke:#cccccc;stroke-linecap:round;stroke-width:0.8;\"/>\n     </g>\n     <g id=\"line2d_10\"/>\n     <g id=\"text_5\">\n      <!-- 2.0 -->\n      <g style=\"fill:#262626;\" transform=\"translate(247.178835 235.793886)scale(0.1 -0.1)\">\n       <defs>\n        <path d=\"M 5.03125 0 \nL 5.03125 6.203125 \nQ 7.515625 11.921875 11.109375 16.28125 \nQ 14.703125 20.65625 18.65625 24.1875 \nQ 22.609375 27.734375 26.484375 30.765625 \nQ 30.375 33.796875 33.5 36.8125 \nQ 36.625 39.84375 38.546875 43.15625 \nQ 40.484375 46.484375 40.484375 50.6875 \nQ 40.484375 53.609375 39.59375 55.828125 \nQ 38.71875 58.0625 37.0625 59.5625 \nQ 35.40625 61.078125 33.078125 61.828125 \nQ 30.765625 62.59375 27.9375 62.59375 \nQ 25.296875 62.59375 22.96875 61.859375 \nQ 20.65625 61.140625 18.84375 59.671875 \nQ 17.046875 58.203125 15.890625 56.03125 \nQ 14.75 53.859375 14.40625 50.984375 \nL 5.421875 51.8125 \nQ 5.859375 55.515625 7.46875 58.78125 \nQ 9.078125 62.0625 11.90625 64.53125 \nQ 14.75 67 18.71875 68.40625 \nQ 22.703125 69.828125 27.9375 69.828125 \nQ 33.0625 69.828125 37.0625 68.609375 \nQ 41.0625 67.390625 43.8125 64.984375 \nQ 46.578125 62.59375 48.046875 59.078125 \nQ 49.515625 55.5625 49.515625 50.984375 \nQ 49.515625 47.515625 48.265625 44.390625 \nQ 47.015625 41.265625 44.9375 38.421875 \nQ 42.875 35.59375 40.140625 32.953125 \nQ 37.40625 30.328125 34.421875 27.8125 \nQ 31.453125 25.296875 28.421875 22.828125 \nQ 25.390625 20.359375 22.71875 17.859375 \nQ 20.0625 15.375 17.96875 12.8125 \nQ 15.875 10.25 14.703125 7.46875 \nL 50.59375 7.46875 \nL 50.59375 0 \nz\n\" id=\"LiberationSans-50\"/>\n       </defs>\n       <use xlink:href=\"#LiberationSans-50\"/>\n       <use x=\"55.615234\" xlink:href=\"#LiberationSans-46\"/>\n       <use x=\"83.398438\" xlink:href=\"#LiberationSans-48\"/>\n      </g>\n     </g>\n    </g>\n    <g id=\"xtick_6\">\n     <g id=\"line2d_11\">\n      <path clip-path=\"url(#p270cba3687)\" d=\"M 304.856108 225.047011 \nL 304.856108 7.607011 \n\" style=\"fill:none;stroke:#cccccc;stroke-linecap:round;stroke-width:0.8;\"/>\n     </g>\n     <g id=\"line2d_12\"/>\n     <g id=\"text_6\">\n      <!-- 2.5 -->\n      <g style=\"fill:#262626;\" transform=\"translate(297.906108 235.793886)scale(0.1 -0.1)\">\n       <use xlink:href=\"#LiberationSans-50\"/>\n       <use x=\"55.615234\" xlink:href=\"#LiberationSans-46\"/>\n       <use x=\"83.398438\" xlink:href=\"#LiberationSans-53\"/>\n      </g>\n     </g>\n    </g>\n    <g id=\"xtick_7\">\n     <g id=\"line2d_13\">\n      <path clip-path=\"url(#p270cba3687)\" d=\"M 355.583381 225.047011 \nL 355.583381 7.607011 \n\" style=\"fill:none;stroke:#cccccc;stroke-linecap:round;stroke-width:0.8;\"/>\n     </g>\n     <g id=\"line2d_14\"/>\n     <g id=\"text_7\">\n      <!-- 3.0 -->\n      <g style=\"fill:#262626;\" transform=\"translate(348.633381 235.793886)scale(0.1 -0.1)\">\n       <defs>\n        <path d=\"M 51.21875 19 \nQ 51.21875 14.265625 49.671875 10.546875 \nQ 48.140625 6.84375 45.1875 4.265625 \nQ 42.234375 1.703125 37.859375 0.359375 \nQ 33.5 -0.984375 27.875 -0.984375 \nQ 21.484375 -0.984375 17.109375 0.609375 \nQ 12.75 2.203125 9.90625 4.8125 \nQ 7.078125 7.421875 5.65625 10.765625 \nQ 4.25 14.109375 3.8125 17.671875 \nL 12.890625 18.5 \nQ 13.28125 15.765625 14.328125 13.515625 \nQ 15.375 11.28125 17.1875 9.671875 \nQ 19 8.0625 21.625 7.171875 \nQ 24.265625 6.296875 27.875 6.296875 \nQ 34.515625 6.296875 38.296875 9.5625 \nQ 42.09375 12.84375 42.09375 19.28125 \nQ 42.09375 23.09375 40.40625 25.40625 \nQ 38.71875 27.734375 36.203125 29.03125 \nQ 33.6875 30.328125 30.734375 30.765625 \nQ 27.78125 31.203125 25.296875 31.203125 \nL 20.3125 31.203125 \nL 20.3125 38.8125 \nL 25.09375 38.8125 \nQ 27.59375 38.8125 30.265625 39.328125 \nQ 32.953125 39.84375 35.171875 41.1875 \nQ 37.40625 42.53125 38.84375 44.828125 \nQ 40.28125 47.125 40.28125 50.6875 \nQ 40.28125 56.203125 37.03125 59.390625 \nQ 33.796875 62.59375 27.390625 62.59375 \nQ 21.578125 62.59375 17.984375 59.609375 \nQ 14.40625 56.640625 13.8125 51.21875 \nL 4.984375 51.90625 \nQ 5.515625 56.453125 7.46875 59.8125 \nQ 9.421875 63.1875 12.421875 65.40625 \nQ 15.4375 67.625 19.28125 68.71875 \nQ 23.140625 69.828125 27.484375 69.828125 \nQ 33.25 69.828125 37.390625 68.375 \nQ 41.546875 66.9375 44.1875 64.46875 \nQ 46.828125 62.015625 48.0625 58.6875 \nQ 49.3125 55.375 49.3125 51.609375 \nQ 49.3125 48.578125 48.484375 45.9375 \nQ 47.65625 43.3125 45.890625 41.203125 \nQ 44.140625 39.109375 41.421875 37.59375 \nQ 38.71875 36.078125 34.90625 35.296875 \nL 34.90625 35.109375 \nQ 39.0625 34.671875 42.140625 33.21875 \nQ 45.21875 31.78125 47.21875 29.625 \nQ 49.21875 27.484375 50.21875 24.75 \nQ 51.21875 22.015625 51.21875 19 \nz\n\" id=\"LiberationSans-51\"/>\n       </defs>\n       <use xlink:href=\"#LiberationSans-51\"/>\n       <use x=\"55.615234\" xlink:href=\"#LiberationSans-46\"/>\n       <use x=\"83.398438\" xlink:href=\"#LiberationSans-48\"/>\n      </g>\n     </g>\n    </g>\n   </g>\n   <g id=\"matplotlib.axis_2\">\n    <g id=\"ytick_1\">\n     <g id=\"line2d_15\">\n      <path clip-path=\"url(#p270cba3687)\" d=\"M 36.001563 213.732528 \nL 370.801562 213.732528 \n\" style=\"fill:none;stroke:#cccccc;stroke-linecap:round;stroke-width:0.8;\"/>\n     </g>\n     <g id=\"line2d_16\"/>\n     <g id=\"text_8\">\n      <!-- −0.50 -->\n      <g style=\"fill:#262626;\" transform=\"translate(7.2 217.355966)scale(0.1 -0.1)\">\n       <defs>\n        <path d=\"M 4.9375 29.6875 \nL 4.9375 36.8125 \nL 53.515625 36.8125 \nL 53.515625 29.6875 \nz\n\" id=\"LiberationSans-8722\"/>\n       </defs>\n       <use xlink:href=\"#LiberationSans-8722\"/>\n       <use x=\"58.398438\" xlink:href=\"#LiberationSans-48\"/>\n       <use x=\"114.013672\" xlink:href=\"#LiberationSans-46\"/>\n       <use x=\"141.796875\" xlink:href=\"#LiberationSans-53\"/>\n       <use x=\"197.412109\" xlink:href=\"#LiberationSans-48\"/>\n      </g>\n     </g>\n    </g>\n    <g id=\"ytick_2\">\n     <g id=\"line2d_17\">\n      <path clip-path=\"url(#p270cba3687)\" d=\"M 36.001563 188.368892 \nL 370.801562 188.368892 \n\" style=\"fill:none;stroke:#cccccc;stroke-linecap:round;stroke-width:0.8;\"/>\n     </g>\n     <g id=\"line2d_18\"/>\n     <g id=\"text_9\">\n      <!-- −0.25 -->\n      <g style=\"fill:#262626;\" transform=\"translate(7.2 191.99233)scale(0.1 -0.1)\">\n       <use xlink:href=\"#LiberationSans-8722\"/>\n       <use x=\"58.398438\" xlink:href=\"#LiberationSans-48\"/>\n       <use x=\"114.013672\" xlink:href=\"#LiberationSans-46\"/>\n       <use x=\"141.796875\" xlink:href=\"#LiberationSans-50\"/>\n       <use x=\"197.412109\" xlink:href=\"#LiberationSans-53\"/>\n      </g>\n     </g>\n    </g>\n    <g id=\"ytick_3\">\n     <g id=\"line2d_19\">\n      <path clip-path=\"url(#p270cba3687)\" d=\"M 36.001563 163.005256 \nL 370.801562 163.005256 \n\" style=\"fill:none;stroke:#cccccc;stroke-linecap:round;stroke-width:0.8;\"/>\n     </g>\n     <g id=\"line2d_20\"/>\n     <g id=\"text_10\">\n      <!-- 0.00 -->\n      <g style=\"fill:#262626;\" transform=\"translate(13.040625 166.628693)scale(0.1 -0.1)\">\n       <use xlink:href=\"#LiberationSans-48\"/>\n       <use x=\"55.615234\" xlink:href=\"#LiberationSans-46\"/>\n       <use x=\"83.398438\" xlink:href=\"#LiberationSans-48\"/>\n       <use x=\"139.013672\" xlink:href=\"#LiberationSans-48\"/>\n      </g>\n     </g>\n    </g>\n    <g id=\"ytick_4\">\n     <g id=\"line2d_21\">\n      <path clip-path=\"url(#p270cba3687)\" d=\"M 36.001563 137.641619 \nL 370.801562 137.641619 \n\" style=\"fill:none;stroke:#cccccc;stroke-linecap:round;stroke-width:0.8;\"/>\n     </g>\n     <g id=\"line2d_22\"/>\n     <g id=\"text_11\">\n      <!-- 0.25 -->\n      <g style=\"fill:#262626;\" transform=\"translate(13.040625 141.265057)scale(0.1 -0.1)\">\n       <use xlink:href=\"#LiberationSans-48\"/>\n       <use x=\"55.615234\" xlink:href=\"#LiberationSans-46\"/>\n       <use x=\"83.398438\" xlink:href=\"#LiberationSans-50\"/>\n       <use x=\"139.013672\" xlink:href=\"#LiberationSans-53\"/>\n      </g>\n     </g>\n    </g>\n    <g id=\"ytick_5\">\n     <g id=\"line2d_23\">\n      <path clip-path=\"url(#p270cba3687)\" d=\"M 36.001563 112.277983 \nL 370.801562 112.277983 \n\" style=\"fill:none;stroke:#cccccc;stroke-linecap:round;stroke-width:0.8;\"/>\n     </g>\n     <g id=\"line2d_24\"/>\n     <g id=\"text_12\">\n      <!-- 0.50 -->\n      <g style=\"fill:#262626;\" transform=\"translate(13.040625 115.90142)scale(0.1 -0.1)\">\n       <use xlink:href=\"#LiberationSans-48\"/>\n       <use x=\"55.615234\" xlink:href=\"#LiberationSans-46\"/>\n       <use x=\"83.398438\" xlink:href=\"#LiberationSans-53\"/>\n       <use x=\"139.013672\" xlink:href=\"#LiberationSans-48\"/>\n      </g>\n     </g>\n    </g>\n    <g id=\"ytick_6\">\n     <g id=\"line2d_25\">\n      <path clip-path=\"url(#p270cba3687)\" d=\"M 36.001563 86.914347 \nL 370.801562 86.914347 \n\" style=\"fill:none;stroke:#cccccc;stroke-linecap:round;stroke-width:0.8;\"/>\n     </g>\n     <g id=\"line2d_26\"/>\n     <g id=\"text_13\">\n      <!-- 0.75 -->\n      <g style=\"fill:#262626;\" transform=\"translate(13.040625 90.537784)scale(0.1 -0.1)\">\n       <defs>\n        <path d=\"M 50.59375 61.671875 \nQ 45.40625 53.765625 41.0625 46.453125 \nQ 36.71875 39.15625 33.59375 31.75 \nQ 30.46875 24.359375 28.734375 16.578125 \nQ 27 8.796875 27 0 \nL 17.828125 0 \nQ 17.828125 8.25 19.78125 16.1875 \nQ 21.734375 24.125 25.046875 31.765625 \nQ 28.375 39.40625 32.765625 46.78125 \nQ 37.15625 54.15625 42.09375 61.328125 \nL 5.125 61.328125 \nL 5.125 68.796875 \nL 50.59375 68.796875 \nz\n\" id=\"LiberationSans-55\"/>\n       </defs>\n       <use xlink:href=\"#LiberationSans-48\"/>\n       <use x=\"55.615234\" xlink:href=\"#LiberationSans-46\"/>\n       <use x=\"83.398438\" xlink:href=\"#LiberationSans-55\"/>\n       <use x=\"139.013672\" xlink:href=\"#LiberationSans-53\"/>\n      </g>\n     </g>\n    </g>\n    <g id=\"ytick_7\">\n     <g id=\"line2d_27\">\n      <path clip-path=\"url(#p270cba3687)\" d=\"M 36.001563 61.55071 \nL 370.801562 61.55071 \n\" style=\"fill:none;stroke:#cccccc;stroke-linecap:round;stroke-width:0.8;\"/>\n     </g>\n     <g id=\"line2d_28\"/>\n     <g id=\"text_14\">\n      <!-- 1.00 -->\n      <g style=\"fill:#262626;\" transform=\"translate(13.040625 65.174148)scale(0.1 -0.1)\">\n       <use xlink:href=\"#LiberationSans-49\"/>\n       <use x=\"55.615234\" xlink:href=\"#LiberationSans-46\"/>\n       <use x=\"83.398438\" xlink:href=\"#LiberationSans-48\"/>\n       <use x=\"139.013672\" xlink:href=\"#LiberationSans-48\"/>\n      </g>\n     </g>\n    </g>\n    <g id=\"ytick_8\">\n     <g id=\"line2d_29\">\n      <path clip-path=\"url(#p270cba3687)\" d=\"M 36.001563 36.187074 \nL 370.801562 36.187074 \n\" style=\"fill:none;stroke:#cccccc;stroke-linecap:round;stroke-width:0.8;\"/>\n     </g>\n     <g id=\"line2d_30\"/>\n     <g id=\"text_15\">\n      <!-- 1.25 -->\n      <g style=\"fill:#262626;\" transform=\"translate(13.040625 39.810511)scale(0.1 -0.1)\">\n       <use xlink:href=\"#LiberationSans-49\"/>\n       <use x=\"55.615234\" xlink:href=\"#LiberationSans-46\"/>\n       <use x=\"83.398438\" xlink:href=\"#LiberationSans-50\"/>\n       <use x=\"139.013672\" xlink:href=\"#LiberationSans-53\"/>\n      </g>\n     </g>\n    </g>\n    <g id=\"ytick_9\">\n     <g id=\"line2d_31\">\n      <path clip-path=\"url(#p270cba3687)\" d=\"M 36.001563 10.823437 \nL 370.801562 10.823437 \n\" style=\"fill:none;stroke:#cccccc;stroke-linecap:round;stroke-width:0.8;\"/>\n     </g>\n     <g id=\"line2d_32\"/>\n     <g id=\"text_16\">\n      <!-- 1.50 -->\n      <g style=\"fill:#262626;\" transform=\"translate(13.040625 14.446875)scale(0.1 -0.1)\">\n       <use xlink:href=\"#LiberationSans-49\"/>\n       <use x=\"55.615234\" xlink:href=\"#LiberationSans-46\"/>\n       <use x=\"83.398438\" xlink:href=\"#LiberationSans-53\"/>\n       <use x=\"139.013672\" xlink:href=\"#LiberationSans-48\"/>\n      </g>\n     </g>\n    </g>\n   </g>\n   <g id=\"line2d_33\">\n    <path clip-path=\"url(#p270cba3687)\" d=\"M 51.219744 150.250884 \nL 152.67429 136.103999 \nL 254.128835 120.401729 \nL 355.583381 107.142937 \n\" style=\"fill:none;stroke:#1f77b4;stroke-linecap:round;stroke-width:1.5;\"/>\n   </g>\n   <g id=\"line2d_34\">\n    <path clip-path=\"url(#p270cba3687)\" d=\"M 51.219744 149.557328 \nL 152.67429 138.441825 \nL 254.128835 128.972128 \nL 355.583381 118.751534 \n\" style=\"fill:none;stroke:#ff7f0e;stroke-linecap:round;stroke-width:1.5;\"/>\n   </g>\n   <g id=\"line2d_35\">\n    <path clip-path=\"url(#p270cba3687)\" d=\"M 51.219744 138.957478 \nL 152.67429 113.60349 \nL 254.128835 96.380325 \nL 355.583381 82.403138 \n\" style=\"fill:none;stroke:#2ca02c;stroke-linecap:round;stroke-width:1.5;\"/>\n   </g>\n   <g id=\"patch_3\">\n    <path d=\"M 36.001563 225.047011 \nL 36.001563 7.607011 \n\" style=\"fill:none;stroke:#cccccc;stroke-linecap:square;stroke-linejoin:miter;\"/>\n   </g>\n   <g id=\"patch_4\">\n    <path d=\"M 370.801562 225.047011 \nL 370.801562 7.607011 \n\" style=\"fill:none;stroke:#cccccc;stroke-linecap:square;stroke-linejoin:miter;\"/>\n   </g>\n   <g id=\"patch_5\">\n    <path d=\"M 36.001563 225.047011 \nL 370.801562 225.047011 \n\" style=\"fill:none;stroke:#cccccc;stroke-linecap:square;stroke-linejoin:miter;\"/>\n   </g>\n   <g id=\"patch_6\">\n    <path d=\"M 36.001563 7.607011 \nL 370.801562 7.607011 \n\" style=\"fill:none;stroke:#cccccc;stroke-linecap:square;stroke-linejoin:miter;\"/>\n   </g>\n   <g id=\"legend_1\">\n    <g id=\"line2d_36\">\n     <path d=\"M 312.1375 20.353886 \nL 332.1375 20.353886 \n\" style=\"fill:none;stroke:#1f77b4;stroke-linecap:round;stroke-width:1.5;\"/>\n    </g>\n    <g id=\"line2d_37\"/>\n    <g id=\"text_17\">\n     <!-- pca -->\n     <g style=\"fill:#262626;\" transform=\"translate(340.1375 23.853886)scale(0.1 -0.1)\">\n      <defs>\n       <path d=\"M 51.421875 26.65625 \nQ 51.421875 20.65625 50.4375 15.578125 \nQ 49.46875 10.5 47.1875 6.828125 \nQ 44.921875 3.171875 41.1875 1.09375 \nQ 37.453125 -0.984375 31.984375 -0.984375 \nQ 26.3125 -0.984375 22.0625 1.171875 \nQ 17.828125 3.328125 15.578125 8.203125 \nL 15.328125 8.203125 \nQ 15.375 8.109375 15.40625 7.328125 \nQ 15.4375 6.546875 15.453125 5.375 \nQ 15.484375 4.203125 15.5 2.75 \nQ 15.53125 1.3125 15.53125 -0.09375 \nL 15.53125 -20.75 \nL 6.734375 -20.75 \nL 6.734375 42.046875 \nQ 6.734375 43.953125 6.703125 45.703125 \nQ 6.6875 47.46875 6.640625 48.90625 \nQ 6.59375 50.34375 6.546875 51.359375 \nQ 6.5 52.390625 6.453125 52.828125 \nL 14.9375 52.828125 \nQ 14.984375 52.6875 15.0625 51.796875 \nQ 15.140625 50.921875 15.203125 49.671875 \nQ 15.28125 48.4375 15.359375 47.015625 \nQ 15.4375 45.609375 15.4375 44.34375 \nL 15.625 44.34375 \nQ 16.84375 46.875 18.40625 48.65625 \nQ 19.96875 50.4375 21.96875 51.578125 \nQ 23.96875 52.734375 26.4375 53.25 \nQ 28.90625 53.765625 31.984375 53.765625 \nQ 37.453125 53.765625 41.1875 51.8125 \nQ 44.921875 49.859375 47.1875 46.3125 \nQ 49.46875 42.78125 50.4375 37.765625 \nQ 51.421875 32.765625 51.421875 26.65625 \nz\nM 42.1875 26.46875 \nQ 42.1875 31.34375 41.59375 35.15625 \nQ 41.015625 38.96875 39.578125 41.59375 \nQ 38.140625 44.234375 35.734375 45.59375 \nQ 33.34375 46.96875 29.734375 46.96875 \nQ 26.8125 46.96875 24.21875 46.140625 \nQ 21.625 45.3125 19.703125 42.96875 \nQ 17.78125 40.625 16.65625 36.5 \nQ 15.53125 32.375 15.53125 25.78125 \nQ 15.53125 20.171875 16.453125 16.28125 \nQ 17.390625 12.40625 19.171875 10.015625 \nQ 20.953125 7.625 23.578125 6.5625 \nQ 26.21875 5.515625 29.640625 5.515625 \nQ 33.296875 5.515625 35.71875 6.921875 \nQ 38.140625 8.34375 39.578125 11.03125 \nQ 41.015625 13.71875 41.59375 17.59375 \nQ 42.1875 21.484375 42.1875 26.46875 \nz\n\" id=\"LiberationSans-112\"/>\n       <path d=\"M 13.421875 26.65625 \nQ 13.421875 22.125 14.078125 18.3125 \nQ 14.75 14.5 16.3125 11.734375 \nQ 17.875 8.984375 20.4375 7.46875 \nQ 23 5.953125 26.765625 5.953125 \nQ 31.453125 5.953125 34.59375 8.484375 \nQ 37.75 11.03125 38.484375 16.3125 \nL 47.359375 15.71875 \nQ 46.921875 12.453125 45.453125 9.421875 \nQ 44 6.390625 41.484375 4.09375 \nQ 38.96875 1.8125 35.34375 0.40625 \nQ 31.734375 -0.984375 27 -0.984375 \nQ 20.796875 -0.984375 16.453125 1.109375 \nQ 12.109375 3.21875 9.390625 6.90625 \nQ 6.6875 10.59375 5.46875 15.59375 \nQ 4.25 20.609375 4.25 26.46875 \nQ 4.25 31.78125 5.125 35.859375 \nQ 6 39.9375 7.59375 42.984375 \nQ 9.1875 46.046875 11.328125 48.125 \nQ 13.484375 50.203125 15.984375 51.4375 \nQ 18.5 52.6875 21.28125 53.25 \nQ 24.078125 53.8125 26.90625 53.8125 \nQ 31.34375 53.8125 34.8125 52.59375 \nQ 38.28125 51.375 40.796875 49.25 \nQ 43.3125 47.125 44.875 44.234375 \nQ 46.4375 41.359375 47.078125 38.03125 \nL 38.03125 37.359375 \nQ 37.359375 41.75 34.5625 44.328125 \nQ 31.78125 46.921875 26.65625 46.921875 \nQ 22.90625 46.921875 20.390625 45.671875 \nQ 17.875 44.4375 16.3125 41.921875 \nQ 14.75 39.40625 14.078125 35.59375 \nQ 13.421875 31.78125 13.421875 26.65625 \nz\n\" id=\"LiberationSans-99\"/>\n       <path d=\"M 20.21875 -0.984375 \nQ 12.25 -0.984375 8.25 3.21875 \nQ 4.25 7.421875 4.25 14.75 \nQ 4.25 19.96875 6.21875 23.3125 \nQ 8.203125 26.65625 11.390625 28.5625 \nQ 14.59375 30.46875 18.6875 31.203125 \nQ 22.796875 31.9375 27.046875 32.03125 \nL 38.921875 32.234375 \nL 38.921875 35.109375 \nQ 38.921875 38.375 38.234375 40.671875 \nQ 37.546875 42.96875 36.125 44.375 \nQ 34.71875 45.796875 32.59375 46.453125 \nQ 30.46875 47.125 27.59375 47.125 \nQ 25.046875 47.125 23 46.75 \nQ 20.953125 46.390625 19.4375 45.4375 \nQ 17.921875 44.484375 16.984375 42.84375 \nQ 16.0625 41.21875 15.765625 38.71875 \nL 6.59375 39.546875 \nQ 7.078125 42.671875 8.4375 45.28125 \nQ 9.8125 47.90625 12.328125 49.796875 \nQ 14.84375 51.703125 18.625 52.75 \nQ 22.40625 53.8125 27.78125 53.8125 \nQ 37.75 53.8125 42.765625 49.234375 \nQ 47.796875 44.671875 47.796875 36.03125 \nL 47.796875 13.28125 \nQ 47.796875 9.375 48.828125 7.390625 \nQ 49.859375 5.421875 52.734375 5.421875 \nQ 53.46875 5.421875 54.203125 5.515625 \nQ 54.9375 5.609375 55.609375 5.765625 \nL 55.609375 0.296875 \nQ 53.953125 -0.09375 52.3125 -0.28125 \nQ 50.6875 -0.484375 48.828125 -0.484375 \nQ 46.34375 -0.484375 44.5625 0.171875 \nQ 42.78125 0.828125 41.65625 2.171875 \nQ 40.53125 3.515625 39.9375 5.484375 \nQ 39.359375 7.46875 39.203125 10.109375 \nL 38.921875 10.109375 \nQ 37.5 7.5625 35.8125 5.515625 \nQ 34.125 3.46875 31.875 2.03125 \nQ 29.640625 0.59375 26.78125 -0.1875 \nQ 23.921875 -0.984375 20.21875 -0.984375 \nz\nM 22.21875 5.609375 \nQ 26.421875 5.609375 29.5625 7.140625 \nQ 32.71875 8.6875 34.78125 11.078125 \nQ 36.859375 13.484375 37.890625 16.3125 \nQ 38.921875 19.140625 38.921875 21.734375 \nL 38.921875 26.078125 \nL 29.296875 25.875 \nQ 26.078125 25.828125 23.171875 25.40625 \nQ 20.265625 25 18.0625 23.78125 \nQ 15.875 22.5625 14.578125 20.359375 \nQ 13.28125 18.171875 13.28125 14.59375 \nQ 13.28125 10.296875 15.59375 7.953125 \nQ 17.921875 5.609375 22.21875 5.609375 \nz\n\" id=\"LiberationSans-97\"/>\n      </defs>\n      <use xlink:href=\"#LiberationSans-112\"/>\n      <use x=\"55.615234\" xlink:href=\"#LiberationSans-99\"/>\n      <use x=\"105.615234\" xlink:href=\"#LiberationSans-97\"/>\n     </g>\n    </g>\n    <g id=\"line2d_38\">\n     <path d=\"M 312.1375 34.675761 \nL 332.1375 34.675761 \n\" style=\"fill:none;stroke:#ff7f0e;stroke-linecap:round;stroke-width:1.5;\"/>\n    </g>\n    <g id=\"line2d_39\"/>\n    <g id=\"text_18\">\n     <!-- ilrma -->\n     <g style=\"fill:#262626;\" transform=\"translate(340.1375 38.175761)scale(0.1 -0.1)\">\n      <defs>\n       <path d=\"M 6.6875 64.0625 \nL 6.6875 72.46875 \nL 15.484375 72.46875 \nL 15.484375 64.0625 \nz\nM 6.6875 0 \nL 6.6875 52.828125 \nL 15.484375 52.828125 \nL 15.484375 0 \nz\n\" id=\"LiberationSans-105\"/>\n       <path d=\"M 6.734375 0 \nL 6.734375 72.46875 \nL 15.53125 72.46875 \nL 15.53125 0 \nz\n\" id=\"LiberationSans-108\"/>\n       <path d=\"M 6.9375 0 \nL 6.9375 40.53125 \nQ 6.9375 42.1875 6.90625 43.921875 \nQ 6.890625 45.65625 6.828125 47.265625 \nQ 6.78125 48.875 6.734375 50.28125 \nQ 6.6875 51.703125 6.640625 52.828125 \nL 14.9375 52.828125 \nQ 14.984375 51.703125 15.0625 50.265625 \nQ 15.140625 48.828125 15.203125 47.3125 \nQ 15.28125 45.796875 15.296875 44.40625 \nQ 15.328125 43.015625 15.328125 42.046875 \nL 15.53125 42.046875 \nQ 16.453125 45.0625 17.5 47.28125 \nQ 18.5625 49.515625 19.96875 50.953125 \nQ 21.390625 52.390625 23.34375 53.09375 \nQ 25.296875 53.8125 28.078125 53.8125 \nQ 29.15625 53.8125 30.125 53.640625 \nQ 31.109375 53.46875 31.640625 53.328125 \nL 31.640625 45.265625 \nQ 30.765625 45.515625 29.59375 45.625 \nQ 28.421875 45.75 26.953125 45.75 \nQ 23.921875 45.75 21.796875 44.375 \nQ 19.671875 43.015625 18.328125 40.59375 \nQ 17 38.1875 16.359375 34.84375 \nQ 15.71875 31.5 15.71875 27.546875 \nL 15.71875 0 \nz\n\" id=\"LiberationSans-114\"/>\n       <path d=\"M 37.5 0 \nL 37.5 33.5 \nQ 37.5 37.359375 37.015625 39.9375 \nQ 36.53125 42.53125 35.375 44.109375 \nQ 34.234375 45.703125 32.375 46.359375 \nQ 30.515625 47.015625 27.828125 47.015625 \nQ 25.046875 47.015625 22.796875 45.921875 \nQ 20.5625 44.828125 18.96875 42.75 \nQ 17.390625 40.671875 16.53125 37.625 \nQ 15.671875 34.578125 15.671875 30.609375 \nL 15.671875 0 \nL 6.9375 0 \nL 6.9375 41.546875 \nQ 6.9375 43.21875 6.90625 45.046875 \nQ 6.890625 46.875 6.828125 48.5 \nQ 6.78125 50.140625 6.734375 51.3125 \nQ 6.6875 52.484375 6.640625 52.828125 \nL 14.9375 52.828125 \nQ 14.984375 52.59375 15.03125 51.515625 \nQ 15.09375 50.4375 15.15625 49.046875 \nQ 15.234375 47.65625 15.28125 46.21875 \nQ 15.328125 44.78125 15.328125 43.796875 \nL 15.484375 43.796875 \nQ 16.65625 46.09375 18.015625 47.953125 \nQ 19.390625 49.8125 21.21875 51.09375 \nQ 23.046875 52.390625 25.40625 53.09375 \nQ 27.78125 53.8125 30.90625 53.8125 \nQ 36.921875 53.8125 40.40625 51.421875 \nQ 43.890625 49.03125 45.265625 43.796875 \nL 45.40625 43.796875 \nQ 46.578125 46.09375 48.046875 47.953125 \nQ 49.515625 49.8125 51.46875 51.09375 \nQ 53.421875 52.390625 55.859375 53.09375 \nQ 58.296875 53.8125 61.421875 53.8125 \nQ 65.4375 53.8125 68.328125 52.734375 \nQ 71.234375 51.65625 73.09375 49.40625 \nQ 74.953125 47.171875 75.828125 43.625 \nQ 76.703125 40.09375 76.703125 35.203125 \nL 76.703125 0 \nL 68.015625 0 \nL 68.015625 33.5 \nQ 68.015625 37.359375 67.53125 39.9375 \nQ 67.046875 42.53125 65.890625 44.109375 \nQ 64.75 45.703125 62.890625 46.359375 \nQ 61.03125 47.015625 58.34375 47.015625 \nQ 55.5625 47.015625 53.3125 45.96875 \nQ 51.078125 44.921875 49.484375 42.875 \nQ 47.90625 40.828125 47.046875 37.75 \nQ 46.1875 34.671875 46.1875 30.609375 \nL 46.1875 0 \nz\n\" id=\"LiberationSans-109\"/>\n      </defs>\n      <use xlink:href=\"#LiberationSans-105\"/>\n      <use x=\"22.216797\" xlink:href=\"#LiberationSans-108\"/>\n      <use x=\"44.433594\" xlink:href=\"#LiberationSans-114\"/>\n      <use x=\"77.734375\" xlink:href=\"#LiberationSans-109\"/>\n      <use x=\"161.035156\" xlink:href=\"#LiberationSans-97\"/>\n     </g>\n    </g>\n    <g id=\"line2d_40\">\n     <path d=\"M 312.1375 48.997636 \nL 332.1375 48.997636 \n\" style=\"fill:none;stroke:#2ca02c;stroke-linecap:round;stroke-width:1.5;\"/>\n    </g>\n    <g id=\"line2d_41\"/>\n    <g id=\"text_19\">\n     <!-- cca -->\n     <g style=\"fill:#262626;\" transform=\"translate(340.1375 52.497636)scale(0.1 -0.1)\">\n      <use xlink:href=\"#LiberationSans-99\"/>\n      <use x=\"50\" xlink:href=\"#LiberationSans-99\"/>\n      <use x=\"100\" xlink:href=\"#LiberationSans-97\"/>\n     </g>\n    </g>\n   </g>\n  </g>\n </g>\n <defs>\n  <clipPath id=\"p270cba3687\">\n   <rect height=\"217.44\" width=\"334.8\" x=\"36.001563\" y=\"7.607011\"/>\n  </clipPath>\n </defs>\n</svg>\n",
      "image/png": "[encoded data removed]"
     },
     "metadata": {}
    }
   ],
   "source": [
    "data = []\n",
    "for i in pca_EVs:\n",
    "    data.append(sum(i))\n",
    "\n",
    "plt.plot(data, label='pca')\n",
    "\n",
    "data = []\n",
    "for i in ilrma_EVs:\n",
    "    data.append(sum(i))\n",
    "\n",
    "plt.plot(data, label='ilrma')\n",
    "\n",
    "data = []\n",
    "for i in cca_EVs:\n",
    "    data.append(sum(i))\n",
    "\n",
    "plt.plot(data, label='cca')\n",
    "\n",
    "plt.legend()\n",
    "plt.axis('equal')"
   ]
  },
  {
   "cell_type": "code",
   "execution_count": null,
   "metadata": {},
   "outputs": [],
   "source": []
  }
 ]
}